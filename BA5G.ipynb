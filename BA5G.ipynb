{
 "cells": [
  {
   "cell_type": "code",
   "execution_count": 1,
   "metadata": {},
   "outputs": [
    {
     "name": "stdout",
     "output_type": "stream",
     "text": [
      "[0, 0, 0, 0, 0, 0, 0]\n",
      "[0, 0, 0, 0, 0, 0, 0]\n",
      "[0, 0, 0, 0, 0, 0, 0]\n",
      "[0, 0, 0, 0, 0, 0, 0]\n",
      "[0, 0, 0, 0, 0, 0, 0]\n",
      "[0, 0, 0, 0, 0, 0, 0]\n",
      "[0, 0, 0, 0, 0, 0, 0]\n",
      "[0, 0, 0, 0, 0, 0, 0]\n",
      "[0, 0, 0, 0, 0, 0, 0]\n",
      "[0, 0, 0, 0, 0, 0, 0]\n",
      "[0, 0, 0, 0, 0, 0, 0]\n"
     ]
    }
   ],
   "source": [
    "string1 = \"PLEASANTLY\"\n",
    "string2 = \"MEANLY\"\n",
    "x = len(string1)\n",
    "y = len(string2)\n",
    "### Creatng matrix for DP\n",
    "matrix = []\n",
    "matrix_final = []\n",
    "for i in range(x+1):\n",
    "    for j in range(y+1):\n",
    "        matrix.append(0)\n",
    "    matrix_final.append(matrix)\n",
    "    matrix = []\n",
    "for i in matrix_final:\n",
    "    print(i)\n"
   ]
  },
  {
   "cell_type": "code",
   "execution_count": 2,
   "metadata": {},
   "outputs": [
    {
     "name": "stdout",
     "output_type": "stream",
     "text": [
      "[0, 1, 2, 3, 4, 5, 6]\n",
      "[1, 0, 0, 0, 0, 0, 0]\n",
      "[2, 0, 0, 0, 0, 0, 0]\n",
      "[3, 0, 0, 0, 0, 0, 0]\n",
      "[4, 0, 0, 0, 0, 0, 0]\n",
      "[5, 0, 0, 0, 0, 0, 0]\n",
      "[6, 0, 0, 0, 0, 0, 0]\n",
      "[7, 0, 0, 0, 0, 0, 0]\n",
      "[8, 0, 0, 0, 0, 0, 0]\n",
      "[9, 0, 0, 0, 0, 0, 0]\n",
      "[10, 0, 0, 0, 0, 0, 0]\n"
     ]
    }
   ],
   "source": [
    "## Initializing first row and first column with incremented values from 0,1,2,3....len(s1) or len(s2)\n",
    "index = 0\n",
    "index1 = 1\n",
    "for i in range(x+1):\n",
    "    for j in range(y+1):\n",
    "        if i == 0:\n",
    "            matrix_final[i][j] = index\n",
    "            index = index + 1\n",
    "        elif (j == 0):\n",
    "            matrix_final[i][j] = index1\n",
    "            index1 = index1 + 1\n",
    "for i in matrix_final:\n",
    "    print(i)\n",
    "\n"
   ]
  },
  {
   "cell_type": "code",
   "execution_count": 3,
   "metadata": {},
   "outputs": [
    {
     "name": "stdout",
     "output_type": "stream",
     "text": [
      "[0, 1, 2, 3, 4, 5, 6]\n",
      "[1, 1, 2, 3, 4, 5, 6]\n",
      "[2, 2, 2, 3, 4, 4, 5]\n",
      "[3, 3, 2, 3, 4, 5, 5]\n",
      "[4, 4, 3, 2, 3, 4, 5]\n",
      "[5, 5, 4, 3, 3, 4, 5]\n",
      "[6, 6, 5, 4, 4, 4, 5]\n",
      "[7, 7, 6, 5, 4, 5, 5]\n",
      "[8, 8, 7, 6, 5, 5, 6]\n",
      "[9, 9, 8, 7, 6, 5, 6]\n",
      "[10, 10, 9, 8, 7, 6, 5]\n"
     ]
    }
   ],
   "source": [
    "## Initializing first row and first column with \"zeros\"\n",
    "index = 0\n",
    "index1 = 1\n",
    "for i in range(x+1):\n",
    "    for j in range(y+1):\n",
    "        if i == 0:\n",
    "            matrix_final[i][j] = index\n",
    "            index = index + 1\n",
    "        elif (j == 0):\n",
    "            matrix_final[i][j] = index1\n",
    "            index1 = index1 + 1\n",
    "        elif string1[i-1] == string2[j-1]: ## If characters are equal then,\n",
    "            matrix_final[i][j] = matrix_final[i-1][j-1]  ## fill the current cell it's diagonal cell value \n",
    "        else: ## If characters are not equal then\n",
    "            matrix_final[i][j] = min(matrix_final[i-1][j], matrix_final[i][j-1],matrix_final[i-1][j-1]) + 1 ## fill the current cell with the  1 + min it's (top cell, right cell and diagonal)\n",
    "for i in matrix_final: ## Filled matrix is generated with secific parameters\n",
    "    print(i)\n",
    "\n",
    "\n"
   ]
  },
  {
   "cell_type": "code",
   "execution_count": 4,
   "metadata": {},
   "outputs": [
    {
     "name": "stdout",
     "output_type": "stream",
     "text": [
      "5\n"
     ]
    }
   ],
   "source": [
    "print(matrix_final[x][y]) ## Getting the last cell value = min edit distance value"
   ]
  },
  {
   "cell_type": "code",
   "execution_count": null,
   "metadata": {},
   "outputs": [],
   "source": []
  },
  {
   "cell_type": "code",
   "execution_count": null,
   "metadata": {},
   "outputs": [],
   "source": []
  }
 ],
 "metadata": {
  "kernelspec": {
   "display_name": "Python 3",
   "language": "python",
   "name": "python3"
  },
  "language_info": {
   "codemirror_mode": {
    "name": "ipython",
    "version": 3
   },
   "file_extension": ".py",
   "mimetype": "text/x-python",
   "name": "python",
   "nbconvert_exporter": "python",
   "pygments_lexer": "ipython3",
   "version": "3.6.8"
  }
 },
 "nbformat": 4,
 "nbformat_minor": 4
}
