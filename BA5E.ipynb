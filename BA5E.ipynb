{
 "cells": [
  {
   "cell_type": "markdown",
   "metadata": {},
   "source": [
    "## Find a Highest-Scoring Alignment of Two Strings\n",
    "http://rosalind.info/problems/ba5e/"
   ]
  },
  {
   "cell_type": "code",
   "execution_count": 1,
   "metadata": {},
   "outputs": [
    {
     "name": "stderr",
     "output_type": "stream",
     "text": [
      "C:\\Users\\Public\\anaconda3\\lib\\site-packages\\Bio\\SubsMat\\__init__.py:131: BiopythonDeprecationWarning: Bio.SubsMat has been deprecated, and we intend to remove it in a future release of Biopython. As an alternative, please consider using Bio.Align.substitution_matrices as a replacement, and contact the Biopython developers if you still need the Bio.SubsMat module.\n",
      "  BiopythonDeprecationWarning,\n"
     ]
    }
   ],
   "source": [
    "import numpy as np\n",
    "from Bio.SubsMat.MatrixInfo import blosum62 as blsm62\n",
    "\n",
    "string1 = \"PLEASANTLY\"\n",
    "string2 = \"MEANLY\"\n",
    "x = len(string1)\n",
    "y = len(string2)\n",
    "matrix = []\n",
    "matrix_final = []\n",
    "for i in range(x+1):\n",
    "    for j in range(y+1):\n",
    "        matrix.append(0)\n",
    "    matrix_final.append(matrix)\n",
    "    matrix = []\n",
    "# for i in matrix_final:\n",
    "#     print(i)"
   ]
  },
  {
   "cell_type": "code",
   "execution_count": 2,
   "metadata": {},
   "outputs": [],
   "source": [
    "## Initializing first row and first column with incremented values from 0,1,2,3....len(s1) or len(s2)\n",
    "index = 0\n",
    "index1 = -5\n",
    "for i in range(x+1):\n",
    "    for j in range(y+1):\n",
    "        if i == 0:\n",
    "            matrix_final[i][j] = index\n",
    "            index = index - 5\n",
    "        elif (j == 0):\n",
    "            matrix_final[i][j] = index1\n",
    "            index1 = index1 - 5\n",
    "# for i in matrix_final:\n",
    "#     print(i)\n",
    "\n"
   ]
  },
  {
   "cell_type": "code",
   "execution_count": 3,
   "metadata": {},
   "outputs": [],
   "source": [
    "def getting_score(x, y, matrix):\n",
    "    \n",
    "    return matrix[(x, y)] if (x, y) in matrix else matrix[(y, x)]\n"
   ]
  },
  {
   "cell_type": "code",
   "execution_count": 4,
   "metadata": {},
   "outputs": [],
   "source": [
    "matrix = blsm62\n",
    "gap_penalty = -5\n",
    "for i in range(1, x + 1):\n",
    "    for j in range(1, y + 1):\n",
    "        s = getting_score(string1[i - 1], string2[j - 1], matrix)\n",
    "        matrix_final[i][j] = max(\n",
    "            matrix_final[i - 1][j - 1] + s,\n",
    "            matrix_final[i - 1][j] + gap_penalty,\n",
    "            matrix_final[i][j - 1] + gap_penalty)\n",
    "\n"
   ]
  },
  {
   "cell_type": "code",
   "execution_count": 5,
   "metadata": {},
   "outputs": [
    {
     "name": "stdout",
     "output_type": "stream",
     "text": [
      "[0, -5, -10, -15, -20, -25, -30]\n",
      "[-5, -2, -6, -11, -16, -21, -26]\n",
      "[-10, -3, -5, -7, -12, -12, -17]\n",
      "[-15, -8, 2, -3, -7, -12, -14]\n",
      "[-20, -13, -3, 6, 1, -4, -9]\n",
      "[-25, -18, -8, 1, 7, 2, -3]\n",
      "[-30, -23, -13, -4, 2, 6, 1]\n",
      "[-35, -28, -18, -9, 2, 1, 4]\n",
      "[-40, -33, -23, -14, -3, 1, -1]\n",
      "[-45, -38, -28, -19, -8, 1, 0]\n",
      "[-50, -43, -33, -24, -13, -4, 8]\n"
     ]
    }
   ],
   "source": [
    "for i in matrix_final:\n",
    "    print(i)\n"
   ]
  },
  {
   "cell_type": "code",
   "execution_count": 6,
   "metadata": {},
   "outputs": [
    {
     "name": "stdout",
     "output_type": "stream",
     "text": [
      "PLEASANTLY\n",
      "-ME--AN-LY\n"
     ]
    }
   ],
   "source": [
    "## Back tracing of the generated matrix\n",
    "# Create variables to store final alignment\n",
    "alignment1 = \"\"\n",
    "alignment2 = \"\"\n",
    "i = x\n",
    "j = y\n",
    "while i > 0 and j > 0: ## Starting from the last cell value\n",
    "    current_score = matrix_final[i][j]\n",
    "    diagonal_score = matrix_final[i-1][j-1]\n",
    "    up_score = matrix_final[i-1][j]\n",
    "    left_score = matrix_final[i][j-1]\n",
    "\n",
    "    # Find how the current cell value has got (from diagonal or top or left cell)\n",
    "    # Getting the string value and update i and j for that cell\n",
    "    if current_score == diagonal_score + getting_score(string1[i-1], string2[j-1],matrix):\n",
    "        alignment1 += string1[i-1]\n",
    "        alignment2 += string2[j-1]\n",
    "        i -= 1\n",
    "        j -= 1\n",
    "    elif current_score == up_score + gap_penalty:\n",
    "        alignment1 += string1[i-1]\n",
    "        alignment2 += '-'\n",
    "        i -= 1\n",
    "    elif current_score == left_score + gap_penalty:\n",
    "        alignment1 += '-'\n",
    "        alignment2 += string2[j-1]\n",
    "        j -= 1\n",
    "\n",
    "# Finish tracing up to the top left cell\n",
    "while i > 0:\n",
    "    alignment1 += string1[i-1]\n",
    "    alignment2 += '-'\n",
    "    i -= 1\n",
    "while j > 0:\n",
    "    alignment1 += '-'\n",
    "    alignment1 += string2[j-1]\n",
    "    j -= 1\n",
    "\n",
    "\n",
    "alignment1 = alignment1[::-1]\n",
    "alignment2 = alignment2[::-1]\n",
    "print(alignment1 + \"\\n\" + alignment2)"
   ]
  },
  {
   "cell_type": "code",
   "execution_count": null,
   "metadata": {},
   "outputs": [],
   "source": []
  }
 ],
 "metadata": {
  "kernelspec": {
   "display_name": "Python 3",
   "language": "python",
   "name": "python3"
  },
  "language_info": {
   "codemirror_mode": {
    "name": "ipython",
    "version": 3
   },
   "file_extension": ".py",
   "mimetype": "text/x-python",
   "name": "python",
   "nbconvert_exporter": "python",
   "pygments_lexer": "ipython3",
   "version": "3.7.6"
  }
 },
 "nbformat": 4,
 "nbformat_minor": 4
}
