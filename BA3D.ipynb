{
 "cells": [
  {
   "cell_type": "markdown",
   "metadata": {},
   "source": [
    "## Construct the De Bruijn Graph of a String\n",
    "http://rosalind.info/problems/ba3d/"
   ]
  },
  {
   "cell_type": "code",
   "execution_count": 2,
   "metadata": {},
   "outputs": [
    {
     "name": "stdout",
     "output_type": "stream",
     "text": [
      "['AAGA', 'AGAT', 'GATT', 'ATTC', 'TTCT', 'TCTC', 'CTCT', 'TCTA', 'CTAC']\n"
     ]
    }
   ],
   "source": [
    "with open(\"rosalind_ba3d.txt\", \"r\") as f:\n",
    "    k_mer = int(f.readline().strip())\n",
    "    DNA = (f.readline().strip())\n",
    "edges = []  \n",
    "k_mer_1 = k_mer\n",
    "for i in range(len(DNA)-k_mer_1+1): ### Looping through DNA string\n",
    "    k_mer_seq = DNA[i:k_mer] ## Getting k_mer sequences\n",
    "    k_mer = k_mer + 1 ## To get new k_mer sequence\n",
    "    edges.append(k_mer_seq)\n",
    "print(edges)"
   ]
  },
  {
   "cell_type": "code",
   "execution_count": 3,
   "metadata": {},
   "outputs": [],
   "source": [
    "edges = ['ATG','TGG','TGC','GTG','GGC','GCA','GCG','CGT']"
   ]
  },
  {
   "cell_type": "code",
   "execution_count": 4,
   "metadata": {},
   "outputs": [],
   "source": [
    "edges = [\"ATG\",\"TGG\",\"TGC\",\"GTG\",\"GGC\",\"GCA\",\"GCG\",\"CGT\"]"
   ]
  },
  {
   "cell_type": "code",
   "execution_count": 5,
   "metadata": {},
   "outputs": [
    {
     "name": "stdout",
     "output_type": "stream",
     "text": [
      "[('TG', 'GC')]\n",
      "[('GC', 'CG')]\n",
      "[['AT', 'TG'], ['CG', 'GT'], ['GC', 'CA'], ['GC', 'CG', 'CA'], ['GG', 'GC'], ['GT', 'TG'], ['TG', 'GC', 'GG'], ['TG', 'GG']]\n"
     ]
    }
   ],
   "source": [
    "dictionary = {}\n",
    "store  = []\n",
    "edge = []\n",
    "for i in range(len(edges)):\n",
    "    prefix = edges[i][0:2]\n",
    "    suffix = edges[i][1:]\n",
    "    if prefix not in dictionary.keys():\n",
    "        dictionary[prefix] = suffix\n",
    "        edge.append([prefix,suffix])\n",
    "#         print(\"First\",prefix +\" -> \"+ suffix)\n",
    "    else:\n",
    "        store.append((prefix,suffix))\n",
    "        print(store)\n",
    "        for i in range(len(store)):\n",
    "            for key in dictionary.keys():\n",
    "                if store[i][0] == key:\n",
    "                    edge.append([store[i][0],store[i][1],dictionary[key]])\n",
    "#                     print(\"Second\",store[i][0] + \" -> \" +store[i][1] + ',' + dictionary[key])\n",
    "        store = []\n",
    "\n",
    "x = sorted(edge)\n",
    "print(x)\n"
   ]
  },
  {
   "cell_type": "code",
   "execution_count": 6,
   "metadata": {},
   "outputs": [
    {
     "ename": "IndexError",
     "evalue": "list index out of range",
     "output_type": "error",
     "traceback": [
      "\u001b[1;31m---------------------------------------------------------------------------\u001b[0m",
      "\u001b[1;31mIndexError\u001b[0m                                Traceback (most recent call last)",
      "\u001b[1;32m<ipython-input-6-05f6090bebee>\u001b[0m in \u001b[0;36m<module>\u001b[1;34m\u001b[0m\n\u001b[0;32m      3\u001b[0m         \u001b[1;32mbreak\u001b[0m\u001b[1;33m\u001b[0m\u001b[1;33m\u001b[0m\u001b[0m\n\u001b[0;32m      4\u001b[0m     \u001b[1;32melse\u001b[0m\u001b[1;33m:\u001b[0m\u001b[1;33m\u001b[0m\u001b[1;33m\u001b[0m\u001b[0m\n\u001b[1;32m----> 5\u001b[1;33m         \u001b[1;32mif\u001b[0m \u001b[0mlen\u001b[0m\u001b[1;33m(\u001b[0m\u001b[0mx\u001b[0m\u001b[1;33m[\u001b[0m\u001b[0mi\u001b[0m\u001b[1;33m]\u001b[0m\u001b[1;33m)\u001b[0m \u001b[1;33m==\u001b[0m \u001b[1;36m2\u001b[0m\u001b[1;33m:\u001b[0m\u001b[1;33m\u001b[0m\u001b[1;33m\u001b[0m\u001b[0m\n\u001b[0m\u001b[0;32m      6\u001b[0m             \u001b[1;32mpass\u001b[0m\u001b[1;33m\u001b[0m\u001b[1;33m\u001b[0m\u001b[0m\n\u001b[0;32m      7\u001b[0m         \u001b[1;32melif\u001b[0m \u001b[0mlen\u001b[0m\u001b[1;33m(\u001b[0m\u001b[0mx\u001b[0m\u001b[1;33m[\u001b[0m\u001b[0mi\u001b[0m\u001b[1;33m]\u001b[0m\u001b[1;33m)\u001b[0m \u001b[1;33m==\u001b[0m \u001b[1;36m3\u001b[0m\u001b[1;33m:\u001b[0m\u001b[1;33m\u001b[0m\u001b[1;33m\u001b[0m\u001b[0m\n",
      "\u001b[1;31mIndexError\u001b[0m: list index out of range"
     ]
    }
   ],
   "source": [
    "for i in range(len(x)):\n",
    "    if i == len(x) - 1:\n",
    "        break\n",
    "    else:\n",
    "        if len(x[i]) == 2:\n",
    "            pass\n",
    "        elif len(x[i]) == 3:\n",
    "            x.pop(i+1)\n",
    "   \n"
   ]
  },
  {
   "cell_type": "code",
   "execution_count": 7,
   "metadata": {},
   "outputs": [
    {
     "name": "stdout",
     "output_type": "stream",
     "text": [
      "[['AT', 'TG'], ['CG', 'GT'], ['GC', 'CA'], ['GC', 'CG', 'CA'], ['GT', 'TG'], ['TG', 'GC', 'GG']]\n"
     ]
    }
   ],
   "source": [
    "print(x)"
   ]
  },
  {
   "cell_type": "code",
   "execution_count": 8,
   "metadata": {},
   "outputs": [
    {
     "name": "stdout",
     "output_type": "stream",
     "text": [
      "AT -> TG\n",
      "CG -> GT\n",
      "GC -> CA\n",
      "GC -> CG,CA\n",
      "GT -> TG\n",
      "TG -> GC,GG\n"
     ]
    }
   ],
   "source": [
    "\n",
    "for i in range(len(x)):\n",
    "    if len(x[i]) == 2:\n",
    "            print(x[i][0] +\" -> \"+ x[i][1])\n",
    "    else:\n",
    "        print(x[i][0] +\" -> \"+ x[i][1] +\",\"+ x[i][2])\n",
    "\n",
    "\n"
   ]
  },
  {
   "cell_type": "code",
   "execution_count": 9,
   "metadata": {},
   "outputs": [
    {
     "name": "stdout",
     "output_type": "stream",
     "text": [
      "AAG -> AGA\n",
      "AGA -> GAT\n",
      "ATT -> TTC\n",
      "CTA -> TAC\n",
      "CTC -> TCT\n",
      "GAT -> ATT\n",
      "TCT -> CTC,CTA\n",
      "TTC -> TCT\n"
     ]
    }
   ],
   "source": [
    "################\n",
    "def DeBruijn(text, k):\n",
    "    result = {}\n",
    "    for i in range(len(text)-k+1):\n",
    "        if text[i:i+k-1] not in result.keys():\n",
    "            result[text[i:i+k-1]] = text[i+1:i+k]\n",
    "        else:\n",
    "            result[text[i:i+k-1]] += ',' + text[i+1:i+k]\n",
    "    return result\n",
    "\n",
    "if __name__ == '__main__':\n",
    "    with open('rosalind_ba3d.txt', 'r') as f:\n",
    "        k = int(f.readline().strip())\n",
    "        text = f.readline().strip()\n",
    "    r = DeBruijn(text, k)\n",
    "    for key in sorted(r.keys()):\n",
    "        print(key + ' -> ' + r[key])"
   ]
  },
  {
   "cell_type": "code",
   "execution_count": null,
   "metadata": {},
   "outputs": [],
   "source": []
  },
  {
   "cell_type": "code",
   "execution_count": null,
   "metadata": {},
   "outputs": [],
   "source": []
  }
 ],
 "metadata": {
  "kernelspec": {
   "display_name": "Python 3",
   "language": "python",
   "name": "python3"
  },
  "language_info": {
   "codemirror_mode": {
    "name": "ipython",
    "version": 3
   },
   "file_extension": ".py",
   "mimetype": "text/x-python",
   "name": "python",
   "nbconvert_exporter": "python",
   "pygments_lexer": "ipython3",
   "version": "3.7.6"
  }
 },
 "nbformat": 4,
 "nbformat_minor": 4
}
