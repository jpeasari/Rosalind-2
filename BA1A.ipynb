{
 "cells": [
  {
   "cell_type": "markdown",
   "metadata": {},
   "source": [
    "## Compute the Number of Times a Pattern Appears in a Text\n",
    "http://rosalind.info/problems/ba1a/"
   ]
  },
  {
   "cell_type": "code",
   "execution_count": 1,
   "metadata": {},
   "outputs": [
    {
     "data": {
      "text/plain": [
       "21"
      ]
     },
     "execution_count": 1,
     "metadata": {},
     "output_type": "execute_result"
    }
   ],
   "source": [
    "def text_pattern(text,pattern):\n",
    "    count_pattern = 0\n",
    "    ln1 = len(text)\n",
    "    ln2 = len(pattern)\n",
    "    ln = ln1 - ln2 + 1\n",
    "    for i in range(ln):\n",
    "        if (text[i:i+ln2]) == pattern:\n",
    "            count_pattern = count_pattern + 1\n",
    "    return count_pattern\n",
    "text_pattern(\"ATTGACGAGCAAGATTGACGAAATTGACGGGCATTGACGGATTGACGATTGACGGAGGTTATCATTGACGCAAATTGACGTGAGATTGACGCGCTTCATTGACGTAATGGAAAATTGACGCACGGCATTGACGGTTGTTGATTGACGCCGTTGTCCATTGACGTTAGATTGACGATGATTGACGTCTGCGTATTGACGTATTGACGAAAGATTGACGGAGATTGACGTATTGACGCATTGACGTGACATATTGACGTGTTGATTGACGATTGACGCATTGACGATTGACGATTGACGGATTGACGGATTGACGGGTGGCCTTGGATTGACGAATCATAAATTGACGCATTGACGATTGACGGCTAAATTGACGTATTGACGTCTTGATTGACGATTGACGAATTGACGAGCGTCAATTGACGATTAAATTGACGGATTGACGTGAATTGACGTACCCCATTGACGTATTGACGGCCTATTGACGGTGATATTGACGTTTTCCATTGACGGCATAATTGACGATTGACGCCTGCCCGAGATTGACGATTGACGATTGACGGTCGGATAGGTCGAACCGCTATTGACGGAATTGACGCATTGACGTGATTGACGGACCATTGACGATTGACGCATTGACGATTGACGGGAATAGCCAAATTGACGTACGATTGACGTGTGATTGACGGCATTGACGCCCATAATATTGACGTGAATTGACGTTGATTGACGAGGGATTGACGGATTGACGGTCTAATTGACGTCCTTGTGGTGCAGACGAATTGACGCGATTGACGAGATTGACGTTATTGACGATTGACGATGTCATTGACGGGATTGACGATTGACGAATTGACGATTGACGCTTGATTGACGATTGACGGGAAATTGACGAAATTGACGCCAATGCATTGACGGAATTGACGGAAATTGACGTTGATTGACGTCTGGGCTGATTGACGATTGACGGGCGATTGACGACTATTGACGAAATTGACGGATTGACGATTGACGCATTGACGTGCAATTGACGGTATTGACGATTGACG\",\"ATTGACGAT\")\n"
   ]
  },
  {
   "cell_type": "code",
   "execution_count": null,
   "metadata": {},
   "outputs": [],
   "source": []
  }
 ],
 "metadata": {
  "kernelspec": {
   "display_name": "Python 3",
   "language": "python",
   "name": "python3"
  },
  "language_info": {
   "codemirror_mode": {
    "name": "ipython",
    "version": 3
   },
   "file_extension": ".py",
   "mimetype": "text/x-python",
   "name": "python",
   "nbconvert_exporter": "python",
   "pygments_lexer": "ipython3",
   "version": "3.7.6"
  }
 },
 "nbformat": 4,
 "nbformat_minor": 4
}
