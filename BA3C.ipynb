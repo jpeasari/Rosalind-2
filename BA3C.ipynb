{
 "cells": [
  {
   "cell_type": "markdown",
   "metadata": {},
   "source": [
    "## Construct the Overlap Graph of a Collection of k-mers\n",
    "http://rosalind.info/problems/ba3c/"
   ]
  },
  {
   "cell_type": "code",
   "execution_count": 1,
   "metadata": {},
   "outputs": [
    {
     "name": "stdout",
     "output_type": "stream",
     "text": [
      "['ATGCG', 'GCATG', 'CATGC', 'AGGCA', 'GGCAT'] ['ATGCG', 'GCATG', 'CATGC', 'AGGCA', 'GGCAT']\n"
     ]
    }
   ],
   "source": [
    "with open(\"rosalind_ba3c.txt\", \"r\") as f:\n",
    "        k_mer_strings = [line.strip() for line in f]\n",
    "k_mer_strings_copy = k_mer_strings\n",
    "print(k_mer_strings,k_mer_strings_copy)\n",
    "length = len(k_mer_strings[0])\n"
   ]
  },
  {
   "cell_type": "code",
   "execution_count": 2,
   "metadata": {},
   "outputs": [
    {
     "name": "stdout",
     "output_type": "stream",
     "text": [
      "GCATG -> CATGC\n",
      "CATGC -> ATGCG\n",
      "AGGCA -> GGCAT\n",
      "GGCAT -> GCATG\n"
     ]
    }
   ],
   "source": [
    "for i in range(len(k_mer_strings)):\n",
    "    for j in range(len(k_mer_strings_copy)):\n",
    "        if k_mer_strings[i][1:] == k_mer_strings[j][0:length-1]:\n",
    "            print(k_mer_strings[i], \"->\",k_mer_strings[j])\n",
    "            "
   ]
  },
  {
   "cell_type": "code",
   "execution_count": null,
   "metadata": {},
   "outputs": [],
   "source": []
  },
  {
   "cell_type": "code",
   "execution_count": null,
   "metadata": {},
   "outputs": [],
   "source": []
  }
 ],
 "metadata": {
  "kernelspec": {
   "display_name": "Python 3",
   "language": "python",
   "name": "python3"
  },
  "language_info": {
   "codemirror_mode": {
    "name": "ipython",
    "version": 3
   },
   "file_extension": ".py",
   "mimetype": "text/x-python",
   "name": "python",
   "nbconvert_exporter": "python",
   "pygments_lexer": "ipython3",
   "version": "3.7.6"
  }
 },
 "nbformat": 4,
 "nbformat_minor": 4
}
