{
 "cells": [
  {
   "cell_type": "markdown",
   "metadata": {},
   "source": [
    "## Implement GreedyMotifSearch\n",
    "http://rosalind.info/problems/ba2d"
   ]
  },
  {
   "cell_type": "code",
   "execution_count": 1,
   "metadata": {},
   "outputs": [
    {
     "name": "stdout",
     "output_type": "stream",
     "text": [
      "3\n",
      "5\n",
      "['GGCGTTCAGGCA', 'AAGAATCAGTCA', 'CAAGGAGTTCGC', 'CACGTCAATCAC', 'CAATAATATTCG']\n"
     ]
    }
   ],
   "source": [
    "with open(\"rosalind_ba2d_1.txt\", \"r\") as f:\n",
    "        k, t = map(int, f.readline().split())\n",
    "        DNA = [line.strip() for line in f]\n",
    "print(k)\n",
    "print(t)\n",
    "print(DNA)"
   ]
  },
  {
   "cell_type": "code",
   "execution_count": 133,
   "metadata": {},
   "outputs": [],
   "source": [
    "### Getting hamming distance between a k_mer and the DNA string\n",
    "### import hamming distance from BA2C.ipynb\n",
    "def Hamming_Distance(k_mer_pat,DNA_string):\n",
    "    dist = 0  ## To track distance between k-mer and string\n",
    "    minimum_distace = [] ### To find minimum distance from all the distances\n",
    "    for i in range(len(DNA_string) - len(k_mer_pat) + 1): ## Lopping through string using a window of k_mer size\n",
    "        for j in range(len(k_mer_pat)):               ## Looping for k_mer length times\n",
    "            if k_mer_pat[j] != DNA_string[i:i+len(k_mer_pat)][j]: ## Compare each k_mer character with a character in a string\n",
    "                dist = dist + 1 ## If a character is mismatched then increment distance\n",
    "#         print(dist)\n",
    "        minimum_distace.append(dist) ## Append distance value to a list\n",
    "        dist = 0\n",
    "    return min(minimum_distace) ## Return a lowest value from the list which is the lowest hamming distance\n"
   ]
  },
  {
   "cell_type": "code",
   "execution_count": null,
   "metadata": {},
   "outputs": [],
   "source": []
  },
  {
   "cell_type": "code",
   "execution_count": 134,
   "metadata": {},
   "outputs": [],
   "source": [
    "### import BA2C.ipynb\n",
    "from operator import itemgetter\n",
    "def ProfileMostProableMotif(DNA,k_mer,profile):\n",
    "    position = {'A' : 0, 'C' : 1, 'G' : 2, 'T' : 3}\n",
    "    k_mer_1 = k_mer\n",
    "    total_probability = []\n",
    "    for i in range(len(DNA)-k_mer_1+1): ### Looping through DNA string\n",
    "        k_mer_seq = DNA[i:k_mer] ## Getting k_mer sequences\n",
    "        k_mer = k_mer + 1 ## To get new k_mer sequence\n",
    "        initial_probability = 1\n",
    "        for x in range(len(k_mer_seq)): ## Looping through each k_mer\n",
    "            letter = k_mer_seq[x] ## Getting letter from k_mer\n",
    "            proability = profile[position[letter]][x] ## Getting the proabality of that letter at that position from the profile matrix\n",
    "            initial_probability = float(initial_probability) * float(proability) ## Multiplying with the initial proability\n",
    "        total_probability.append((k_mer_seq,initial_probability)) ## APpendind all the multiplied proabilities to a list\n",
    "#     print(max(total_probability, key=itemgetter(1))[0]) ## Getting the k-mer with the highest proabality value\n",
    "    return max(total_probability, key=itemgetter(1))[0]"
   ]
  },
  {
   "cell_type": "code",
   "execution_count": null,
   "metadata": {},
   "outputs": [],
   "source": []
  },
  {
   "cell_type": "code",
   "execution_count": 135,
   "metadata": {},
   "outputs": [],
   "source": [
    "# ## Helper function to generate profile matrix\n",
    "def Profile(gerated_motifs, k):\n",
    "    profile_matrix = []\n",
    "    for i in range(4):\n",
    "        profile_matrix.append([0.0] * k) ## Creating a matrix or list with all 0's in each position for all 4 bases\n",
    "    total_motifs = len(gerated_motifs) ## Getting the length of motifs\n",
    "    for j in range(k):\n",
    "        motif_counting = {\"A\" : 0, \"C\" : 0, \"G\" : 0, \"T\" : 0} # Creating a disctionary for all 4 bases with 0 as a key value\n",
    "        for i in gerated_motifs:\n",
    "            motif_counting[\"A\"] += i[j].count(\"A\") ## Counting a base in a motif and adding value to a dictionary if the base is A\n",
    "            motif_counting[\"C\"] += i[j].count(\"C\") ## Counting a base in a motif and adding value to a dictionary if the base is C\n",
    "            motif_counting[\"G\"] += i[j].count(\"G\") ## Counting a base in a motif and adding value to a dictionary if the base is G\n",
    "            motif_counting[\"T\"] += i[j].count(\"T\") ## Counting a base in a motif and adding value to a dictionary if the base is T\n",
    "        profile_matrix[0][j] = motif_counting[\"A\"] / total_motifs ## Dividing each value in the dictinary with total motif length\n",
    "        profile_matrix[1][j] = motif_counting[\"C\"] / total_motifs\n",
    "        profile_matrix[2][j] = motif_counting[\"G\"] / total_motifs\n",
    "        profile_matrix[3][j] = motif_counting[\"T\"] / total_motifs\n",
    "#         print(\"Profile\",profile_matrix)\n",
    "    return profile_matrix ## Returning final matrix\n"
   ]
  },
  {
   "cell_type": "code",
   "execution_count": 136,
   "metadata": {},
   "outputs": [],
   "source": [
    "test = []\n",
    "def ScoreFunction(given_motifs):\n",
    "    length = len(given_motifs[0]) ## Getting length of motifs in each list of motifs\n",
    "    consensus_seq = []\n",
    "    for j in range(length): ## Looping through length value\n",
    "        position = {\"A\" : 0, \"C\" : 0, \"G\" : 0, \"T\" : 0} ## A dictionary with 0's as values\n",
    "        for i in given_motifs: ## Looping through each motif\n",
    "            position[\"A\"] = position[\"A\"] + i[j].count(\"A\") ## Counting a base in a motif and adding value to a dictionary if the base is A\n",
    "            position[\"C\"] = position[\"C\"] + i[j].count(\"C\")\n",
    "            position[\"G\"] = position[\"G\"] + i[j].count(\"G\")\n",
    "            position[\"T\"] = position[\"T\"] + i[j].count(\"T\")\n",
    "        maximum_position = max(position.values()) ## Getting maximum dictionary value \n",
    "        for key,value in position.items():## Looping through dictionary\n",
    "            if value == maximum_position: ## If max value == maximum dictionary value \n",
    "                consensus_seq.append(key) ## Get corresponding key for that maximum value\n",
    "\n",
    "                break\n",
    "    \n",
    "\n",
    "    consensus_seq = \"\".join(consensus_seq) ## Join all the keys\n",
    "    \n",
    "    score = 0\n",
    "    for i in given_motifs:\n",
    "        score = score + Hamming_Distance(i,consensus_seq) ## Calculate the hamming distance between each generated motif and the generated consesus sequence\n",
    "    return score\n",
    "                "
   ]
  },
  {
   "cell_type": "code",
   "execution_count": null,
   "metadata": {},
   "outputs": [],
   "source": []
  },
  {
   "cell_type": "code",
   "execution_count": 139,
   "metadata": {},
   "outputs": [],
   "source": [
    "def GreedyMotifSearchAlgorithm(k, t, DNA):\n",
    "    # create list of best motifs from out of the first DNA string given\n",
    "    best_motifs = []\n",
    "    for seq in DNA:\n",
    "        first = seq[0:k]\n",
    "        best_motifs.append(first)\n",
    "#     best_motifs = [seq[:k] for seq in dna]\n",
    "    \n",
    "    # iterate over kmers in first Dna string, create a motif list for each kmer\n",
    "    first_seq = DNA[0]\n",
    "    for start in range(len(first_seq) - k + 1):\n",
    "        kmer = first_seq[start : start + k]\n",
    "        # start motif list based on this kmer from first_seq\n",
    "        motif = [kmer]\n",
    "#         print(motif)\n",
    "        \n",
    "        # iterate over subsequent Dna strings, make  profile from them based on first_seq kmer\n",
    "        for i in range(1, t):\n",
    "            matrix = Profile(motif,k)\n",
    "#             print(\"Profile\",matrix)\n",
    "            most_probable = ProfileMostProableMotif(DNA[i], k, matrix)\n",
    "#             print(\"Most probable\",most_probable)\n",
    "            motif.append(most_probable)\n",
    "            \n",
    "        # score motif, replace if best\n",
    "        if ScoreFunction(motif) < ScoreFunction(best_motifs):\n",
    "            best_motifs = motif\n",
    "    index = 0\n",
    "    for x in best_motifs:\n",
    "#         print(x)\n",
    "        index = index + 1\n",
    "#     print(index)\n",
    "    return 0"
   ]
  },
  {
   "cell_type": "code",
   "execution_count": 140,
   "metadata": {},
   "outputs": [
    {
     "data": {
      "text/plain": [
       "0"
      ]
     },
     "execution_count": 140,
     "metadata": {},
     "output_type": "execute_result"
    }
   ],
   "source": [
    "GreedyMotifSearchAlgorithm(k,t,DNA)"
   ]
  },
  {
   "cell_type": "code",
   "execution_count": null,
   "metadata": {},
   "outputs": [],
   "source": []
  },
  {
   "cell_type": "code",
   "execution_count": null,
   "metadata": {},
   "outputs": [],
   "source": []
  },
  {
   "cell_type": "code",
   "execution_count": null,
   "metadata": {},
   "outputs": [],
   "source": []
  },
  {
   "cell_type": "code",
   "execution_count": null,
   "metadata": {},
   "outputs": [],
   "source": []
  },
  {
   "cell_type": "code",
   "execution_count": null,
   "metadata": {},
   "outputs": [],
   "source": []
  }
 ],
 "metadata": {
  "kernelspec": {
   "display_name": "Python 3",
   "language": "python",
   "name": "python3"
  },
  "language_info": {
   "codemirror_mode": {
    "name": "ipython",
    "version": 3
   },
   "file_extension": ".py",
   "mimetype": "text/x-python",
   "name": "python",
   "nbconvert_exporter": "python",
   "pygments_lexer": "ipython3",
   "version": "3.7.6"
  }
 },
 "nbformat": 4,
 "nbformat_minor": 4
}
