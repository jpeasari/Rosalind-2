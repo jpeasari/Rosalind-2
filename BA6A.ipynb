{
 "cells": [
  {
   "cell_type": "markdown",
   "metadata": {},
   "source": [
    "## Implement GreedySorting to Sort a Permutation by Reversals\n",
    "http://rosalind.info/problems/ba6a/"
   ]
  },
  {
   "cell_type": "code",
   "execution_count": 6,
   "metadata": {},
   "outputs": [
    {
     "name": "stdout",
     "output_type": "stream",
     "text": [
      "[-3  4  1  5 -2]\n"
     ]
    }
   ],
   "source": [
    "import numpy as np\n",
    "\n",
    "temp = {1: '+', -1:'-'}\n",
    "### Parsing the input data to numpy array\n",
    "\n",
    "input_data =  open('rolsaind_ba6a.txt',\"r\")\n",
    "for line in input_data:\n",
    "    line = line.strip().lstrip(\"(\")\n",
    "    line = line.rstrip(\")\")\n",
    "    line = line.split()\n",
    "for i in range(0, len(line)): \n",
    "    line[i] = int(line[i]) \n",
    "data_array = np.array(line)\n",
    "print(data_array)"
   ]
  },
  {
   "cell_type": "code",
   "execution_count": 3,
   "metadata": {},
   "outputs": [
    {
     "name": "stdout",
     "output_type": "stream",
     "text": [
      "[1 2 3 4 5]\n"
     ]
    }
   ],
   "source": [
    "## Creating an numpy array with length = data_array with consecutive integers to compare later   \n",
    "identity = np.arange(len(data_array)) + 1\n",
    "print(identity)"
   ]
  },
  {
   "cell_type": "code",
   "execution_count": 4,
   "metadata": {},
   "outputs": [
    {
     "name": "stdout",
     "output_type": "stream",
     "text": [
      "(-1 -4 +3 +5 -2)\n",
      "(+1 -4 +3 +5 -2)\n",
      "(+1 +2 -5 -3 +4)\n",
      "(+1 +2 +3 +5 +4)\n",
      "(+1 +2 +3 -4 -5)\n",
      "(+1 +2 +3 +4 -5)\n",
      "(+1 +2 +3 +4 +5)\n"
     ]
    }
   ],
   "source": [
    "index =  []\n",
    "result = []\n",
    "i = 0\n",
    "while (data_array != identity).any(): ## The any() function returns True if any element of an iterable is True. If not, any() returns False.\n",
    "    while data_array[i] == i + 1:\n",
    "        i += 1\n",
    "    j = np.where(abs(data_array) == i+1)[0][0] ### If condition is true it returns index, it will look for 1 at the begining and fetch its index and folows\n",
    "    data_array[i:j+1] = -1 * (data_array[i:j+1][::-1]) ## With that index value, it will reverse values and flips signs\n",
    "    \n",
    "    line = '('+ ' '.join([temp[np.sign(x)] + str(abs(x)) for x in data_array]) + ')'\n",
    "    result.append(line)\n",
    "    print(line, end = \"\\n\")\n"
   ]
  },
  {
   "cell_type": "code",
   "execution_count": 5,
   "metadata": {},
   "outputs": [
    {
     "name": "stdout",
     "output_type": "stream",
     "text": [
      "7\n"
     ]
    }
   ],
   "source": [
    "print(len(result))\n"
   ]
  },
  {
   "cell_type": "code",
   "execution_count": null,
   "metadata": {},
   "outputs": [],
   "source": []
  }
 ],
 "metadata": {
  "kernelspec": {
   "display_name": "Python 3",
   "language": "python",
   "name": "python3"
  },
  "language_info": {
   "codemirror_mode": {
    "name": "ipython",
    "version": 3
   },
   "file_extension": ".py",
   "mimetype": "text/x-python",
   "name": "python",
   "nbconvert_exporter": "python",
   "pygments_lexer": "ipython3",
   "version": "3.7.6"
  }
 },
 "nbformat": 4,
 "nbformat_minor": 4
}
