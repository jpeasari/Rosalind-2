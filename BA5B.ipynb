{
 "cells": [
  {
   "cell_type": "markdown",
   "metadata": {},
   "source": [
    "## Find the Length of a Longest Path in a Manhattan-like Grid\n",
    "http://rosalind.info/problems/ba5b/"
   ]
  },
  {
   "cell_type": "code",
   "execution_count": 24,
   "metadata": {},
   "outputs": [
    {
     "ename": "ValueError",
     "evalue": "could not convert string to float: '13 11'",
     "output_type": "error",
     "traceback": [
      "\u001b[1;31m---------------------------------------------------------------------------\u001b[0m",
      "\u001b[1;31mValueError\u001b[0m                                Traceback (most recent call last)",
      "\u001b[1;32m<ipython-input-24-f94aceb45e56>\u001b[0m in \u001b[0;36m<module>\u001b[1;34m\u001b[0m\n\u001b[0;32m      2\u001b[0m \u001b[0mx\u001b[0m \u001b[1;33m=\u001b[0m \u001b[0mdata\u001b[0m\u001b[1;33m.\u001b[0m\u001b[0mreadline\u001b[0m\u001b[1;33m(\u001b[0m\u001b[1;33m)\u001b[0m\u001b[1;33m.\u001b[0m\u001b[0mrstrip\u001b[0m\u001b[1;33m(\u001b[0m\u001b[1;34m'\\n'\u001b[0m\u001b[1;33m)\u001b[0m\u001b[1;33m\u001b[0m\u001b[1;33m\u001b[0m\u001b[0m\n\u001b[0;32m      3\u001b[0m \u001b[0my\u001b[0m \u001b[1;33m=\u001b[0m \u001b[0mdata\u001b[0m\u001b[1;33m.\u001b[0m\u001b[0mreadline\u001b[0m\u001b[1;33m(\u001b[0m\u001b[1;33m)\u001b[0m\u001b[1;33m.\u001b[0m\u001b[0mrstrip\u001b[0m\u001b[1;33m(\u001b[0m\u001b[1;34m'\\n'\u001b[0m\u001b[1;33m)\u001b[0m\u001b[1;33m\u001b[0m\u001b[1;33m\u001b[0m\u001b[0m\n\u001b[1;32m----> 4\u001b[1;33m \u001b[0mprint\u001b[0m\u001b[1;33m(\u001b[0m\u001b[0mfloat\u001b[0m\u001b[1;33m(\u001b[0m\u001b[0mx\u001b[0m\u001b[1;33m)\u001b[0m\u001b[1;33m)\u001b[0m\u001b[1;33m\u001b[0m\u001b[1;33m\u001b[0m\u001b[0m\n\u001b[0m\u001b[0;32m      5\u001b[0m \u001b[1;31m# full_list = []\u001b[0m\u001b[1;33m\u001b[0m\u001b[1;33m\u001b[0m\u001b[1;33m\u001b[0m\u001b[0m\n\u001b[0;32m      6\u001b[0m \u001b[1;31m# down_matix =[]\u001b[0m\u001b[1;33m\u001b[0m\u001b[1;33m\u001b[0m\u001b[1;33m\u001b[0m\u001b[0m\n",
      "\u001b[1;31mValueError\u001b[0m: could not convert string to float: '13 11'"
     ]
    }
   ],
   "source": [
    "data = open('rosalind_ba5b.txt','r')\n",
    "x = data.readline().rstrip('\\n')\n",
    "y = data.readline().rstrip('\\n')\n",
    "full_list = []\n",
    "down_matix =[]\n",
    "right_matrix = []\n",
    "for line in data:\n",
    "    line = line.split()\n",
    "    full_list.append(line)\n",
    "down_matix = full_list[0:x]\n",
    "right_matrix = full_list[x+1:]\n",
    "down_matix = [[int(j) for j in i] for i in down_matix]\n",
    "right_matrix = [[int(j) for j in i] for i in right_matrix]\n",
    "print(down_matix)\n",
    "print(right_matrix)\n"
   ]
  },
  {
   "cell_type": "code",
   "execution_count": 2,
   "metadata": {},
   "outputs": [
    {
     "name": "stdout",
     "output_type": "stream",
     "text": [
      "34\n",
      "{(0, 0): 0, (1, 0): 1, (0, 1): 3, (0, 2): 5, (0, 3): 9, (0, 4): 9, (2, 0): 5, (3, 0): 9, (4, 0): 14, (1, 1): 4, (1, 2): 7, (1, 3): 13, (1, 4): 15, (2, 1): 10, (2, 2): 17, (2, 3): 20, (2, 4): 23, (3, 1): 14, (3, 2): 22, (3, 3): 22, (3, 4): 24, (4, 1): 20, (4, 2): 30, (4, 3): 32, (4, 4): 34}\n"
     ]
    }
   ],
   "source": [
    "dictionary = {(0,0):0}\n",
    "\n",
    "for i in range(1,x+1):\n",
    "    dictionary[(i,0)] = dictionary[(i-1,0)] + down_matix[i-1][0]\n",
    "\n",
    "    for j in range(1,y+1):\n",
    "        dictionary[(0,j)] = dictionary[(0,j-1)] + right_matrix[0][j-1]\n",
    "\n",
    "# calulation\n",
    "for i in range(1,x+1):\n",
    "    for j in range(1,y+1):\n",
    "        dictionary[(i,j)] = max(dictionary[(i-1,j)]+down_matix[i-1][j], dictionary[(i,j-1)] + right_matrix[i][j-1])\n",
    "print(dictionary[(x,y)])\n",
    "print(dictionary)\n"
   ]
  },
  {
   "cell_type": "code",
   "execution_count": null,
   "metadata": {},
   "outputs": [],
   "source": []
  },
  {
   "cell_type": "code",
   "execution_count": null,
   "metadata": {},
   "outputs": [],
   "source": []
  },
  {
   "cell_type": "code",
   "execution_count": null,
   "metadata": {},
   "outputs": [],
   "source": []
  },
  {
   "cell_type": "code",
   "execution_count": null,
   "metadata": {},
   "outputs": [],
   "source": []
  },
  {
   "cell_type": "code",
   "execution_count": null,
   "metadata": {},
   "outputs": [],
   "source": []
  },
  {
   "cell_type": "code",
   "execution_count": null,
   "metadata": {},
   "outputs": [],
   "source": []
  }
 ],
 "metadata": {
  "kernelspec": {
   "display_name": "Python 3",
   "language": "python",
   "name": "python3"
  },
  "language_info": {
   "codemirror_mode": {
    "name": "ipython",
    "version": 3
   },
   "file_extension": ".py",
   "mimetype": "text/x-python",
   "name": "python",
   "nbconvert_exporter": "python",
   "pygments_lexer": "ipython3",
   "version": "3.7.6"
  }
 },
 "nbformat": 4,
 "nbformat_minor": 4
}
