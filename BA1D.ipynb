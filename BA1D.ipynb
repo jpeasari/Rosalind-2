{
 "cells": [
  {
   "cell_type": "markdown",
   "metadata": {},
   "source": [
    "## Find All Occurrences of a Pattern in a String\n",
    "http://rosalind.info/problems/ba1d/"
   ]
  },
  {
   "cell_type": "code",
   "execution_count": 1,
   "metadata": {},
   "outputs": [
    {
     "name": "stdout",
     "output_type": "stream",
     "text": [
      "1 3 9 "
     ]
    }
   ],
   "source": [
    "string  = \"GATATATGCATATACTT\"\n",
    "pattern = \"ATAT\"\n",
    "s = len(string)\n",
    "p = len(pattern)\n",
    "i = 0\n",
    "loop = s - p \n",
    "for j in range(loop):\n",
    "    if string[i:p] == pattern[0:p]:\n",
    "        print(i, end = ' ')\n",
    "    i = i + 1\n",
    "    p = p + 1\n",
    "    if p>len(string):\n",
    "        break\n",
    "\n"
   ]
  },
  {
   "cell_type": "code",
   "execution_count": null,
   "metadata": {},
   "outputs": [],
   "source": []
  }
 ],
 "metadata": {
  "kernelspec": {
   "display_name": "Python 3",
   "language": "python",
   "name": "python3"
  },
  "language_info": {
   "codemirror_mode": {
    "name": "ipython",
    "version": 3
   },
   "file_extension": ".py",
   "mimetype": "text/x-python",
   "name": "python",
   "nbconvert_exporter": "python",
   "pygments_lexer": "ipython3",
   "version": "3.7.6"
  }
 },
 "nbformat": 4,
 "nbformat_minor": 4
}
