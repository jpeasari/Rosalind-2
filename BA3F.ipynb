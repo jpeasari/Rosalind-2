{
 "cells": [
  {
   "cell_type": "code",
   "execution_count": 1,
   "metadata": {},
   "outputs": [
    {
     "name": "stdout",
     "output_type": "stream",
     "text": [
      "[['0'], ['1'], ['2'], ['3'], ['4'], ['5'], ['6'], ['7'], ['8'], ['9']]\n",
      "[['3'], ['0'], ['1,6'], ['2'], ['2'], ['4'], ['5,8'], ['9'], ['7'], ['6']]\n"
     ]
    }
   ],
   "source": [
    "dictionary  = {}\n",
    "numbers_1 = []\n",
    "numbers_2 = []\n",
    "with open(\"rosalind_ba3f.txt\") as f:\n",
    "    for line in f:\n",
    "        line = line.split()\n",
    "        numbers_1.append([line[0]])\n",
    "        numbers_2.append([line[2]])\n",
    "\n",
    "print(numbers_1)\n",
    "print(numbers_2)"
   ]
  },
  {
   "cell_type": "code",
   "execution_count": 2,
   "metadata": {},
   "outputs": [
    {
     "name": "stdout",
     "output_type": "stream",
     "text": [
      "[['0'], ['1'], ['2'], ['3'], ['4'], ['5'], ['6'], ['7'], ['8'], ['9']]\n",
      "[['3'], ['0'], ['1', '6'], ['2'], ['2'], ['4'], ['5', '8'], ['9'], ['7'], ['6']]\n"
     ]
    }
   ],
   "source": [
    "num2 = []\n",
    "for i in range(len(numbers_2)):\n",
    "    num2.append(numbers_2[i][0].split(\",\"))\n",
    "print(numbers_1)\n",
    "print(num2)\n"
   ]
  },
  {
   "cell_type": "code",
   "execution_count": 3,
   "metadata": {},
   "outputs": [
    {
     "name": "stdout",
     "output_type": "stream",
     "text": [
      "{'0': ['3'], '1': ['0'], '2': ['1', '6'], '3': ['2'], '4': ['2'], '5': ['4'], '6': ['5', '8'], '7': ['9'], '8': ['7'], '9': ['6']} "
     ]
    }
   ],
   "source": [
    "for i in range(len(num2)):\n",
    "    dictionary[numbers_1[i][0]] = num2[i]\n",
    "print(dictionary, end = \" \") \n",
    "\n",
    "    "
   ]
  },
  {
   "cell_type": "code",
   "execution_count": 5,
   "metadata": {},
   "outputs": [
    {
     "name": "stdout",
     "output_type": "stream",
     "text": [
      "0\n",
      "3\n",
      "2\n",
      "1\n",
      "0\n",
      "3\n",
      "2\n",
      "1\n",
      "0\n",
      "3\n",
      "2\n",
      "1\n",
      "0\n",
      "END\n",
      "1\n",
      "0\n",
      "3\n",
      "2\n",
      "1\n",
      "0\n",
      "3\n",
      "2\n",
      "1\n",
      "0\n",
      "3\n",
      "2\n",
      "1\n",
      "END\n",
      "2\n",
      "1\n",
      "0\n",
      "3\n",
      "2\n",
      "1\n",
      "0\n",
      "3\n",
      "2\n",
      "1\n",
      "0\n",
      "3\n",
      "2\n",
      "END\n",
      "3\n",
      "2\n",
      "1\n",
      "0\n",
      "3\n",
      "2\n",
      "1\n",
      "0\n",
      "3\n",
      "2\n",
      "1\n",
      "0\n",
      "3\n",
      "END\n",
      "4\n",
      "2\n",
      "1\n",
      "0\n",
      "3\n",
      "2\n",
      "1\n",
      "0\n",
      "3\n",
      "2\n",
      "1\n",
      "0\n",
      "3\n",
      "END\n",
      "5\n",
      "4\n",
      "2\n",
      "1\n",
      "0\n",
      "3\n",
      "2\n",
      "1\n",
      "0\n",
      "3\n",
      "2\n",
      "1\n",
      "0\n",
      "END\n",
      "6\n",
      "5\n",
      "4\n",
      "2\n",
      "1\n",
      "0\n",
      "3\n",
      "2\n",
      "1\n",
      "0\n",
      "3\n",
      "2\n",
      "1\n",
      "END\n",
      "7\n",
      "9\n",
      "6\n",
      "5\n",
      "4\n",
      "2\n",
      "1\n",
      "0\n",
      "3\n",
      "2\n",
      "1\n",
      "0\n",
      "3\n",
      "END\n",
      "8\n",
      "7\n",
      "9\n",
      "6\n",
      "5\n",
      "4\n",
      "2\n",
      "1\n",
      "0\n",
      "3\n",
      "2\n",
      "1\n",
      "0\n",
      "END\n",
      "9\n",
      "6\n",
      "5\n",
      "4\n",
      "2\n",
      "1\n",
      "0\n",
      "3\n",
      "2\n",
      "1\n",
      "0\n",
      "3\n",
      "2\n",
      "END\n"
     ]
    }
   ],
   "source": [
    "for i in range(len(num2)):\n",
    "    key = list(dictionary.keys())[i]\n",
    "    print(key)\n",
    "    j1 = key\n",
    "    for j in range(12):\n",
    "        if j1 in dictionary.keys():\n",
    "            print(dictionary[j1][0])\n",
    "            j1 = dictionary[j1][0]\n",
    "    print(\"END\")\n",
    "    key = 0\n"
   ]
  },
  {
   "cell_type": "code",
   "execution_count": 86,
   "metadata": {},
   "outputs": [
    {
     "name": "stdout",
     "output_type": "stream",
     "text": [
      "1\n",
      "0\n",
      "3\n",
      "2\n",
      "1\n"
     ]
    }
   ],
   "source": [
    "# key = \"0\"\n",
    "key = list(dictionary.keys())[0]\n",
    "key1 = list(dictionary.keys())[1]\n",
    "\n",
    "\n",
    "key = list(dictionary.keys())[0]\n",
    "print(key1)\n",
    "if key1 in dictionary.keys():\n",
    "    print(dictionary[key1][0])\n",
    "    second = dictionary[key1]\n",
    "\n",
    "if second[0] in dictionary.keys():\n",
    "    print(dictionary[second[0]][0])\n",
    "    third = dictionary[second[0]]\n",
    "    \n",
    "if third[0] in dictionary.keys():\n",
    "    print(dictionary[third[0]][0])\n",
    "    fourth = dictionary[third[0]][0]\n",
    "    \n",
    "if fourth[0] in dictionary.keys():\n",
    "    print(dictionary[fourth[0]][0])\n",
    "    \n",
    "\n",
    "\n",
    "\n",
    "\n",
    "\n"
   ]
  },
  {
   "cell_type": "code",
   "execution_count": null,
   "metadata": {},
   "outputs": [],
   "source": [
    "# # key = \"0\"\n",
    "# key = list(dictionary.keys())[0]\n",
    "# key1 = list(dictionary.keys())[1]\n",
    "\n",
    "\n",
    "# key = list(dictionary.keys())[0]\n",
    "# print(key1)\n",
    "# if key1 in dictionary.keys():\n",
    "#     print(dictionary[key1][0])\n",
    "#     second = dictionary[key1]\n",
    "\n",
    "# if second[0] in dictionary.keys():\n",
    "#     print(dictionary[second[0]][0])\n",
    "#     third = dictionary[second[0]]\n",
    "    \n",
    "# if third[0] in dictionary.keys():\n",
    "#     print(dictionary[third[0]][0])\n",
    "#     fourth = dictionary[third[0]][0]\n",
    "    \n",
    "# if fourth[0] in dictionary.keys():\n",
    "#     print(dictionary[fourth[0]][0])\n",
    "    \n",
    "\n",
    "\n",
    "\n",
    "\n",
    "\n"
   ]
  },
  {
   "cell_type": "code",
   "execution_count": null,
   "metadata": {},
   "outputs": [],
   "source": []
  },
  {
   "cell_type": "code",
   "execution_count": null,
   "metadata": {},
   "outputs": [],
   "source": []
  }
 ],
 "metadata": {
  "kernelspec": {
   "display_name": "Python 3",
   "language": "python",
   "name": "python3"
  },
  "language_info": {
   "codemirror_mode": {
    "name": "ipython",
    "version": 3
   },
   "file_extension": ".py",
   "mimetype": "text/x-python",
   "name": "python",
   "nbconvert_exporter": "python",
   "pygments_lexer": "ipython3",
   "version": "3.6.8"
  }
 },
 "nbformat": 4,
 "nbformat_minor": 4
}
