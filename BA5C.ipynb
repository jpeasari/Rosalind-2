{
 "cells": [
  {
   "cell_type": "markdown",
   "metadata": {},
   "source": [
    "## Find a Longest Common Subsequence of Two Strings\n",
    "http://rosalind.info/problems/ba5c/"
   ]
  },
  {
   "cell_type": "code",
   "execution_count": 1,
   "metadata": {},
   "outputs": [
    {
     "name": "stdout",
     "output_type": "stream",
     "text": [
      "[0, 0, 0, 0, 0, 0, 0, 0, 0]\n",
      "[0, 0, 0, 0, 0, 0, 0, 0, 0]\n",
      "[0, 0, 0, 0, 0, 0, 0, 0, 0]\n",
      "[0, 0, 0, 0, 0, 0, 0, 0, 0]\n",
      "[0, 0, 0, 0, 0, 0, 0, 0, 0]\n",
      "[0, 0, 0, 0, 0, 0, 0, 0, 0]\n",
      "[0, 0, 0, 0, 0, 0, 0, 0, 0]\n",
      "[0, 0, 0, 0, 0, 0, 0, 0, 0]\n",
      "[0, 0, 0, 0, 0, 0, 0, 0, 0]\n",
      "[0, 0, 0, 0, 0, 0, 0, 0, 0]\n"
     ]
    }
   ],
   "source": [
    "string1 = \"ACACTGTGA\"\n",
    "string2 = \"AACCTTGG\"\n",
    "x = len(string1)\n",
    "y = len(string2)\n",
    "### Creatng matrix for DP\n",
    "matrix = []\n",
    "matrix_final = []\n",
    "for i in range(x+1):\n",
    "    for j in range(y+1):\n",
    "        matrix.append(0)\n",
    "    matrix_final.append(matrix)\n",
    "    matrix = []\n",
    "for i in matrix_final:\n",
    "    print(i)"
   ]
  },
  {
   "cell_type": "code",
   "execution_count": 2,
   "metadata": {},
   "outputs": [
    {
     "name": "stdout",
     "output_type": "stream",
     "text": [
      "[0, 0, 0, 0, 0, 0, 0, 0, 0]\n",
      "[0, 0, 0, 0, 0, 0, 0, 0, 0]\n",
      "[0, 0, 0, 0, 0, 0, 0, 0, 0]\n",
      "[0, 0, 0, 0, 0, 0, 0, 0, 0]\n",
      "[0, 0, 0, 0, 0, 0, 0, 0, 0]\n",
      "[0, 0, 0, 0, 0, 0, 0, 0, 0]\n",
      "[0, 0, 0, 0, 0, 0, 0, 0, 0]\n",
      "[0, 0, 0, 0, 0, 0, 0, 0, 0]\n",
      "[0, 0, 0, 0, 0, 0, 0, 0, 0]\n",
      "[0, 0, 0, 0, 0, 0, 0, 0, 0]\n"
     ]
    }
   ],
   "source": [
    "### Initializing first row and first column with \"zeros\"\n",
    "for i in range(x+1):\n",
    "    for j in range(y+1):\n",
    "        if i == 0 or j == 0:\n",
    "            matrix_final[i][j] = 0\n",
    "for i in matrix_final:\n",
    "    print(i)\n",
    "          \n"
   ]
  },
  {
   "cell_type": "code",
   "execution_count": 3,
   "metadata": {},
   "outputs": [
    {
     "name": "stdout",
     "output_type": "stream",
     "text": [
      "[0, 0, 0, 0, 0, 0, 0, 0, 0]\n",
      "[0, 1, 1, 1, 1, 1, 1, 1, 1]\n",
      "[0, 1, 1, 2, 2, 2, 2, 2, 2]\n",
      "[0, 1, 2, 2, 2, 2, 2, 2, 2]\n",
      "[0, 1, 2, 3, 3, 3, 3, 3, 3]\n",
      "[0, 1, 2, 3, 3, 4, 4, 4, 4]\n",
      "[0, 1, 2, 3, 3, 4, 4, 5, 5]\n",
      "[0, 1, 2, 3, 3, 4, 5, 5, 5]\n",
      "[0, 1, 2, 3, 3, 4, 5, 6, 6]\n",
      "[0, 1, 2, 3, 3, 4, 5, 6, 6]\n"
     ]
    }
   ],
   "source": [
    "for i in range(x+1): ## Looping througn one string\n",
    "    for j in range(y+1): ## Looping througn another string\n",
    "        if i == 0 or j == 0: ## If any index i or j = 0 i.e., fill first row and first column with zeros\n",
    "            matrix_final[i][j] = 0  ## Fill those cells with all \"zeros\"\n",
    "        elif string1[i-1] == string2[j-1]: ## If characters are equal then,\n",
    "            matrix_final[i][j] = matrix_final[i-1][j-1] + 1 ## add 1 to it's diagonal element and fill the current cell\n",
    "        else: ## If characters are not equal then\n",
    "            matrix_final[i][j] = max(matrix_final[i-1][j], matrix_final[i][j-1]) ## fill the current cell with the maximum it's (top cell and right cell)\n",
    "for i in matrix_final: ## Filled matrix is generated with secific parameters\n",
    "    print(i)"
   ]
  },
  {
   "cell_type": "code",
   "execution_count": 4,
   "metadata": {},
   "outputs": [
    {
     "name": "stdout",
     "output_type": "stream",
     "text": [
      "AACTTG\n"
     ]
    }
   ],
   "source": [
    "## The value in the last corner cell will have the largest value \n",
    "## indicates the length of the common sub string\n",
    "string_length = matrix_final[x][y] ## Getting the last cell value\n",
    "\n",
    "lcs_algo = [\"\"] * (string_length+1) ## Creating list with empty strings of length index + 1 to store common sequence\n",
    "lcs_algo[string_length] = \"\"\n",
    "\n",
    "\n",
    "i = x # 9  \n",
    "j = y # 8\n",
    "while i > 0 and j > 0: \n",
    "\n",
    "    if string1[i-1] == string2[j-1]: ## If letter in both strings is equal\n",
    "        lcs_algo[string_length-1] = string1[i-1] ## copy that character to string_length\n",
    "        i -= 1 ## decrement both i., go to the current cell diagonal element\n",
    "        j -= 1\n",
    "        string_length -= 1 ## decrement to store next occuring matched character\n",
    "\n",
    "    elif matrix_final[i-1][j] > matrix_final[i][j-1]: ## If top cell value > right cell then\n",
    "        i -= 1 ### Move to it's top cell\n",
    "    else:\n",
    "        j -= 1 ## Move to it's right cell\n",
    "\n",
    "print(\"\".join(lcs_algo))  \n",
    "\n",
    "\n",
    "\n"
   ]
  },
  {
   "cell_type": "code",
   "execution_count": null,
   "metadata": {},
   "outputs": [],
   "source": []
  },
  {
   "cell_type": "code",
   "execution_count": null,
   "metadata": {},
   "outputs": [],
   "source": []
  }
 ],
 "metadata": {
  "kernelspec": {
   "display_name": "Python 3",
   "language": "python",
   "name": "python3"
  },
  "language_info": {
   "codemirror_mode": {
    "name": "ipython",
    "version": 3
   },
   "file_extension": ".py",
   "mimetype": "text/x-python",
   "name": "python",
   "nbconvert_exporter": "python",
   "pygments_lexer": "ipython3",
   "version": "3.7.6"
  }
 },
 "nbformat": 4,
 "nbformat_minor": 4
}
