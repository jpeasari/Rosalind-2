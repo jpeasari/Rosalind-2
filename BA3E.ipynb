{
 "cells": [
  {
   "cell_type": "code",
   "execution_count": 1,
   "metadata": {},
   "outputs": [
    {
     "name": "stdout",
     "output_type": "stream",
     "text": [
      "['GAGG', 'CAGG', 'GGGG', 'GGGA', 'CAGG', 'AGGG', 'GGAG']\n"
     ]
    }
   ],
   "source": [
    "k_mers = []\n",
    "with open(\"rosalind_ba3e.txt\", \"r\") as f:\n",
    "    for line in f:\n",
    "        k_mers.append(line.strip(\"\\n\"))\n",
    "print(k_mers)\n"
   ]
  },
  {
   "cell_type": "code",
   "execution_count": 2,
   "metadata": {},
   "outputs": [
    {
     "name": "stdout",
     "output_type": "stream",
     "text": [
      "[['AGG', 'GGG'], ['CAG', 'AGG'], ['CAG', 'AGG', 'AGG'], ['GAG', 'AGG'], ['GGA', 'GAG'], ['GGG', 'GGA', 'GGG'], ['GGG', 'GGG']]\n"
     ]
    }
   ],
   "source": [
    "dictionary = {}\n",
    "store  = []\n",
    "edge = []\n",
    "for i in range(len(k_mers)):\n",
    "    prefix = k_mers[i][0:3]\n",
    "    suffix = k_mers[i][1:]\n",
    "    if prefix not in dictionary.keys():\n",
    "        dictionary[prefix] = suffix\n",
    "        edge.append([prefix,suffix])\n",
    "#         print(\"First\",prefix +\" -> \"+ suffix)\n",
    "    else:\n",
    "        store.append((prefix,suffix))\n",
    "        for i in range(len(store)):\n",
    "            for key in dictionary.keys():\n",
    "                if store[i][0] == key:\n",
    "                    edge.append([store[i][0],store[i][1],dictionary[key]])\n",
    "#                     print(\"Second\",store[i][0] + \" -> \" +store[i][1] + ',' + dictionary[key])\n",
    "        store = []\n",
    "\n",
    "x = sorted(edge)\n",
    "print(x)\n"
   ]
  },
  {
   "cell_type": "code",
   "execution_count": 5,
   "metadata": {},
   "outputs": [
    {
     "ename": "IndexError",
     "evalue": "list index out of range",
     "output_type": "error",
     "traceback": [
      "\u001b[1;31m---------------------------------------------------------------------------\u001b[0m",
      "\u001b[1;31mIndexError\u001b[0m                                Traceback (most recent call last)",
      "\u001b[1;32m<ipython-input-5-05f6090bebee>\u001b[0m in \u001b[0;36m<module>\u001b[1;34m\u001b[0m\n\u001b[0;32m      3\u001b[0m         \u001b[1;32mbreak\u001b[0m\u001b[1;33m\u001b[0m\u001b[1;33m\u001b[0m\u001b[0m\n\u001b[0;32m      4\u001b[0m     \u001b[1;32melse\u001b[0m\u001b[1;33m:\u001b[0m\u001b[1;33m\u001b[0m\u001b[1;33m\u001b[0m\u001b[0m\n\u001b[1;32m----> 5\u001b[1;33m         \u001b[1;32mif\u001b[0m \u001b[0mlen\u001b[0m\u001b[1;33m(\u001b[0m\u001b[0mx\u001b[0m\u001b[1;33m[\u001b[0m\u001b[0mi\u001b[0m\u001b[1;33m]\u001b[0m\u001b[1;33m)\u001b[0m \u001b[1;33m==\u001b[0m \u001b[1;36m2\u001b[0m\u001b[1;33m:\u001b[0m\u001b[1;33m\u001b[0m\u001b[1;33m\u001b[0m\u001b[0m\n\u001b[0m\u001b[0;32m      6\u001b[0m             \u001b[1;32mpass\u001b[0m\u001b[1;33m\u001b[0m\u001b[1;33m\u001b[0m\u001b[0m\n\u001b[0;32m      7\u001b[0m         \u001b[1;32melif\u001b[0m \u001b[0mlen\u001b[0m\u001b[1;33m(\u001b[0m\u001b[0mx\u001b[0m\u001b[1;33m[\u001b[0m\u001b[0mi\u001b[0m\u001b[1;33m]\u001b[0m\u001b[1;33m)\u001b[0m \u001b[1;33m==\u001b[0m \u001b[1;36m3\u001b[0m\u001b[1;33m:\u001b[0m\u001b[1;33m\u001b[0m\u001b[1;33m\u001b[0m\u001b[0m\n",
      "\u001b[1;31mIndexError\u001b[0m: list index out of range"
     ]
    }
   ],
   "source": [
    "for i in range(len(x)):\n",
    "    if i == len(x) - 1:\n",
    "        break\n",
    "    else:\n",
    "        if len(x[i]) == 2:\n",
    "            pass\n",
    "        elif len(x[i]) == 3:\n",
    "            x.pop(i+1)\n",
    "   \n"
   ]
  },
  {
   "cell_type": "code",
   "execution_count": 6,
   "metadata": {},
   "outputs": [
    {
     "name": "stdout",
     "output_type": "stream",
     "text": [
      "[['AGG', 'GGG'], ['CAG', 'AGG'], ['CAG', 'AGG', 'AGG'], ['GGA', 'GAG'], ['GGG', 'GGA', 'GGG']]\n"
     ]
    }
   ],
   "source": [
    "print(x)"
   ]
  },
  {
   "cell_type": "code",
   "execution_count": 7,
   "metadata": {},
   "outputs": [
    {
     "name": "stdout",
     "output_type": "stream",
     "text": [
      "AGG -> GGG\n",
      "CAG -> AGG\n",
      "CAG -> AGG,AGG\n",
      "GGA -> GAG\n",
      "GGG -> GGA,GGG\n"
     ]
    }
   ],
   "source": [
    "\n",
    "for i in range(len(x)):\n",
    "    if len(x[i]) == 2:\n",
    "            print(x[i][0] +\" -> \"+ x[i][1])\n",
    "    else:\n",
    "        print(x[i][0] +\" -> \"+ x[i][1] +\",\"+ x[i][2])\n",
    "\n",
    "\n"
   ]
  },
  {
   "cell_type": "code",
   "execution_count": null,
   "metadata": {},
   "outputs": [],
   "source": []
  },
  {
   "cell_type": "code",
   "execution_count": null,
   "metadata": {},
   "outputs": [],
   "source": []
  }
 ],
 "metadata": {
  "kernelspec": {
   "display_name": "Python 3",
   "language": "python",
   "name": "python3"
  },
  "language_info": {
   "codemirror_mode": {
    "name": "ipython",
    "version": 3
   },
   "file_extension": ".py",
   "mimetype": "text/x-python",
   "name": "python",
   "nbconvert_exporter": "python",
   "pygments_lexer": "ipython3",
   "version": "3.7.6"
  }
 },
 "nbformat": 4,
 "nbformat_minor": 4
}
