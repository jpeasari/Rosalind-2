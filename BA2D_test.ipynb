{
 "cells": [
  {
   "cell_type": "code",
   "execution_count": 59,
   "metadata": {},
   "outputs": [
    {
     "name": "stdout",
     "output_type": "stream",
     "text": [
      "12\n",
      "25\n",
      "['CGGTCTACCGCCACGAAGCTTCCGACGATGTCTGATAGCGAGTGGGCAGGCGGCGTTCGCTTATACCGCGTAGCATAGTATTATCATCGGAGAGGATGTTTGTCAAACGTGAGTGGGCATCATTAGCACCCTCACGTTCAGACAAAGCGAACGAAT', 'TTCGAAAGCTCCGCACCCCATTTCCTTAATCGGGCAACCAAGTCAGAATTCGGGTGTCATAGTGAGGGGGCACCCTAACTATAAAAGAGTCCATCTGCTACTAAGGGGCCAAGCGGCGACAGTGGCAAGGTGTCTGGGATGCTGTTCTTATCATAG', 'CTGCATGCGATAGTCCCGAGTCACGGGGTAGGTCGTGAAACGAAGCCGATTGAGAGGGCTCGTCATCCGATTACCGGAGATTGGGGTATTTGAGCACCTGGTTGATGGGCATCTACTTGGGTTAACTGAGCCAATACGCTATTCGGATTGGGATGT', 'TCATATAAAAGGAGCAGCGTCTATTATTTCTGAATGGATGAATCAAGACCGAAGGATTTAGCACTTGCGCTTTCCTTCTCTTGAGGCTAGCGACACTGTGTTTGATGGACTTAAGCGGCGGTCGTGTGGCGCAAAGCTCCGTCAAGAGAGCGGGCC', 'GTCGGGTAGTTGGAATGAACCGGCGATTAATAGCGCGCATGTTCTTAAACCAGTCCAATGGTGCCGCGAATGACTCATATTAGGATAGAGAGGGCCATAGCGAGGAAATTAAGCAATTTTTGAGAACCGCGCAAGGTGTTCTGATGACGCCTCGGG', 'AAGCAACGGTAAACTGAGAGGGCGAGTCGCCGAAGTTAAGTTGCGCGGGTAAGTGCAAGGGGGTGCGTGTGTTGATCGCCATTTGTGCACTCATGTGCACTCTGCACGGTCCGACACCTGGACTTATGTGCGTTCTTTGTGTCTCATGCTTTCTAT', 'TTTCCAAGCTATTTTTTAGCAATAGAAGATTACTTAACCTGAGTTAAGTTGTGCATAACTCCTAGACACTCGTCCCAGTCTAGTAAACATCAACTGAAGGGGTAGCAGACAGAGGGGGCACCCAGTAGACTAACCAAGCGCACATTTCATAACAGA', 'GTTATGTCCTAGGATCACCCTGCAAATTCAAAATGCGCCTCGCTGGGCCGGCTTCCCCGGACTCATACAGTCAGGGGACGACGATTCGCATAAAGGCACTTTCTCAATAACACGAGTTGTATCGAGCGGGCTGGCTTGGGCTACAGTTCGCGCGCG', 'CAGGGATCTGAACCGATTGGTCAATGAACCCAGGAAAATGCCGTTATAACAGTGTGCGGATACCGAGTTCGGTAAACAGAGTTGATATGTCTTTAAAACGAGGGGGCCCCATCACGTTTTCTGTGTTTGTCCCTCTGGGTGTAGTTTTCACACGCC', 'GGTTGAGTTGTTTAGCGCAGGTCGATAAATGGAGTTTGTGTCGAGGAGGGTTATCATTGACTGTCCCTTATTCTTCTCAGCAGTCTATTGTATGCAATCGAGGGGGCTGTCCGGAAGGTATCTCTTGCAGTTCTACATCCAGACGCGATAAAACAA', 'GACCGGCTGCCCTAGGCCTAAAATGATATCGGGTTAAGGAGTGAATGGGTCGTAGCGGACACATAGCCGATCAGATTTATCCTAAGGTACTGCTCCGATTCATATGACGGGGAAGGGTCCACCGAGCGGGCTGCTAACAATTACTAACGCGTCGAT', 'CGTTGTGATATGCTGCCTGGCTATCAGGCTCGCCACAGCTCATCGGTCAGGGAGCGGGCGACCATTAAGCCGTTTTTATCTATAGTTAATCCGGGTCGATCATAGCCTTGTGTTGATGAGATATCTCACATTTTGCGTGTGAGCCAGTACTCCCAC', 'TCATTATTCATCTTAACACCATTGCGCGCAATCAGAGGGCTCGGCCACGCCTGATCCCTTTGGCCAATTGGACCAGGATATTTCCCCATCCCCAGCAGGCGGCTCTGTAGACGAGTCGCATATTATCGCTGGTTCATTGATAGTACGGAGCGGGCA', 'ACGGAGGGGGCGGAAACGGTCTACCAGGCGTAGTGCAGTTCGGCCCACTGGCCCTGGCTGGATACCGAATCGAGAGAACTGCAAAAACACTCAGCAAGAGCGGAAAGTTTACCGTGTTTACCCATTACGTGCCGCAAAACGTGCCCACGATAAGAC', 'TGACATGCCGAACCTCCGACATATCCTAGGTCGTGTGAGCTTACACTTACAGAGGGGGCTCTGTTGCACCAAGCTGCCAATGTCCATTATAACGTGGAGGCCCTCGACTGTGCGTGACTGATCCTTGAGTGATGGAGATAAGTAGCGCTTAAAGGG', 'ACCATCTGTTTTAGCATATGGGGCTTAATGCGTATTTCTGCGAGGTTGCCTTCCCGTGGTTGATCCCATCAGACAATCGTCCTGGTCTTACGCTGGATCGAGAGGGCACCCGCTTAGGTGAGCACAGTCACCGGGCACATGTACACTGGTCTACGA', 'ATTAACGAGTGAACCGGTCAGTGCATTGAGAGGGCCTTGTGCCGTAGGGTACGGGGAGCATTTAAAGGTTGGTTTTACACCTCCACGGCGGTTCAACGGTCACCGAGCTTTCTTATTAATGACGACCTTGCAGCAACTACCTCTACCAGTCTGTGC', 'CCTCCCTGAACGACGCGAATTTATTCGGCCCCCACGGTATCAACACCGTGCATTAGGGTCCTGCCACCGGGCAGCGAGCGGGCCGACACTATCGATAGACATTGTAGCGCGCCCGGTGCTAGCCTGAATTCCTGGGTGTTTGCTGGGAATTCGCAA', 'AACATCGGAAATCTGACGACCTGTGGTATTGTGCGGATGTTGGTTCAAACCCTTCAGCCCAGGTGGCAGCAGGGGAACGGCAGGGCTAGTACTCATAATCGCTTATGTATGGAGTGGGCCTACCTGGTCTTAGAGCCGCTCCAAGGTCCCCAAATA', 'GATCCGCTCAGGACGTTCTAGGCGTACACTCTGTCAAACGAGCGGGCTTGATGAGTGGGATCATCCATCACTGCGTACATACCCTAGGGTTTCGCTGCAACGCACGCCCATAACACACACGGTTTTGTAAGTCAAGTAAAGTTAGAAACTAATACC', 'ACCACGCAGCCTATATTTCAACGGCGAGCGTTAATTCTAGCGCTCGGTATAGGTACGCCTGTGATTTTTTATTTGCTAGCGAGTCATGTCTGGGGAAATTAGAGACTAAATAATGAGCCAAGTGAGCGGGCTGGCAAACCTATCACATTAGTCCAC', 'GACTGTTATAGTGTGATGAAATCGATAGAGAGGGCACGTACGTCGACCATCGGCCGAGGACGACTATCCACTCCCGGCGTTTACTCTTAGCCTTATTAGGCTAAAATCATCGTGGAAGGTTGACGCGTACCAGAAATAATCAGATTTTGCTCGAGA', 'TAAGTCATTGATAAGGTTCGAGCGCCATGCTCCCTAGTTGCCTCATTTTCGTAATCGCCAACTAGCTTCACGCTAACGACCCTCACTCCGTGCACGCAAATATGTCCGGCTTGTTTCACCCGGCGCATGGCCAGAGAGTGGGCCAAGGAGGATAAT', 'GGCATCCACTACACTGAGAGGGCTGGCTAGGTTAGACAGCTTTTCTCAGATAGTCCGTCGAGCCGGGAGCCTAAATATTTTAACAGCCATCTGGGAGCGTTTACTGGTCGAGTTGGCGCGTGAGTTTGGTTGAACACTTGATTGAGGAATTGTACT', 'CGCTGATACTAGAGCGAGTGGGCCAGAAAACGATTATTTCTTACTCCCGATACACTTATTCCTGCTGTGTAGCAGTACGCCCAAGCAAGACTGTTAAATCGCGGGGCTTACGTATTGGCCCGCCGAGATTGAGCATAGCGATTTCAAGAATGCTAA']\n"
     ]
    }
   ],
   "source": [
    "with open(\"rosalind_ba2d.txt\", \"r\") as f:\n",
    "        k, t = map(int, f.readline().split())\n",
    "        DNA = [line.strip() for line in f]\n",
    "print(k)\n",
    "print(t)\n",
    "print(DNA)"
   ]
  },
  {
   "cell_type": "code",
   "execution_count": 60,
   "metadata": {},
   "outputs": [],
   "source": [
    "def HammingDistance(string1, string2):\n",
    "    \n",
    "    \"This function calculates the Hamming Distance between two strings of equal length.\"\n",
    "    \n",
    "    # check if strings are the same length\n",
    "    # alternate: assert len(string1) == len(string2), \"Strings must be same length!\"\n",
    "    if len(string1) != len(string2):\n",
    "        print(\"Strings must be the same length!\")\n",
    "        \n",
    "    number_mismatches = 0\n",
    "    string_length = len(string1)\n",
    "    for i in range(string_length):\n",
    "        if string1[i] != string2[i]:\n",
    "            number_mismatches += 1\n",
    "\n",
    "    return number_mismatches"
   ]
  },
  {
   "cell_type": "code",
   "execution_count": 61,
   "metadata": {},
   "outputs": [],
   "source": [
    "def ProfileMostProbableList(Dna, k, Profile):\n",
    "    kmer_probability_max = 0\n",
    "    max_kmer = \"\"\n",
    "    pos = {'A' : 0, 'C' : 1, 'G' : 2, 'T' : 3}\n",
    "    for i in range(len(Dna) - k + 1):\n",
    "        kmer = Dna[i : i + k]\n",
    "        # kmer_probabilty must be set to 1 because it will be multiplied by subsequent probs\n",
    "        kmer_probability = 1\n",
    "        # iterate throuh kmers and multiple probabilities from Profile dictionaries\n",
    "        for j, basepair in enumerate(kmer):\n",
    "            # index through dictionary for value i in key basepair\n",
    "            probability = Profile[pos[basepair]][j]\n",
    "            # multiple probability by existing probability_value\n",
    "            kmer_probability *= probability\n",
    "        \n",
    "        # check if max_kmer is \"\"\n",
    "        if not max_kmer:\n",
    "            max_kmer = kmer\n",
    "            kmer_probability_max = kmer_probability\n",
    "        # check if kmer_probability is largest value seen so far, replace variable if so\n",
    "        elif kmer_probability > kmer_probability_max:\n",
    "            kmer_probability_max = kmer_probability\n",
    "            max_kmer = kmer\n",
    "    return max_kmer"
   ]
  },
  {
   "cell_type": "code",
   "execution_count": 62,
   "metadata": {},
   "outputs": [],
   "source": [
    "def Profile(passed_motifs, k):\n",
    "    \"Creates a profile matrix for each passed profile matrix.\"\n",
    "    # create empty matrix of floats\n",
    "    matrix = []\n",
    "    for i in range(4):\n",
    "        # make k number of [0.0] entries in matrix for each spot in kmer\n",
    "        matrix.append([0.0] * k)\n",
    "        \n",
    "    # for each position in kmer, count bases\n",
    "    number_motifs = len(passed_motifs)\n",
    "    for i in range(k):\n",
    "        motif_count = {\"A\" : 0, \"C\" : 0, \"G\" : 0, \"T\" : 0}\n",
    "        for motif in passed_motifs:\n",
    "            motif_count[\"A\"] += motif[i].count(\"A\")\n",
    "            motif_count[\"C\"] += motif[i].count(\"C\")\n",
    "            motif_count[\"G\"] += motif[i].count(\"G\")\n",
    "            motif_count[\"T\"] += motif[i].count(\"T\")\n",
    "\n",
    "        # create matrix of profiles for each base\n",
    "        matrix[0][i] = motif_count[\"A\"] / number_motifs\n",
    "        matrix[1][i] = motif_count[\"C\"] / number_motifs\n",
    "        matrix[2][i] = motif_count[\"G\"] / number_motifs\n",
    "        matrix[3][i] = motif_count[\"T\"] / number_motifs\n",
    "        \n",
    "    return matrix"
   ]
  },
  {
   "cell_type": "code",
   "execution_count": 63,
   "metadata": {},
   "outputs": [
    {
     "data": {
      "text/plain": [
       "[[0.5, 0.5, 0.0], [0.0, 0.0, 0.5], [0.5, 0.5, 0.5], [0.0, 0.0, 0.0]]"
      ]
     },
     "execution_count": 63,
     "metadata": {},
     "output_type": "execute_result"
    }
   ],
   "source": [
    "Profile(['GGC', 'AAG'],3)"
   ]
  },
  {
   "cell_type": "code",
   "execution_count": 64,
   "metadata": {},
   "outputs": [],
   "source": [
    "def Score(passed_motifs):\n",
    "    \"This function scores differences between passed motifs and a consensus kmer from probability profiles.\"\n",
    "    k = len(passed_motifs[0])\n",
    "    consensus = []\n",
    "    for i in range(k):\n",
    "        freq = {\"A\" : 0, \"C\" : 0, \"G\" : 0, \"T\" : 0}\n",
    "        for motif in passed_motifs:\n",
    "            freq[\"A\"] += motif[i].count(\"A\")\n",
    "            freq[\"C\"] += motif[i].count(\"C\")\n",
    "            freq[\"G\"] += motif[i].count(\"G\")\n",
    "            freq[\"T\"] += motif[i].count(\"T\")\n",
    "    \n",
    "        # based on freq above, creat a consensus kmer to compare to passed motif\n",
    "        max_freq = max(freq.values())\n",
    "        for nt, count in freq.items():\n",
    "            if count == max_freq:\n",
    "                consensus.append(nt)\n",
    "                break\n",
    "                \n",
    "    consensus = \"\".join(consensus)\n",
    "    score_value = 0\n",
    "    for motif in passed_motifs:\n",
    "        score_value += HammingDistance(motif, consensus)\n",
    "    \n",
    "    return score_value"
   ]
  },
  {
   "cell_type": "code",
   "execution_count": null,
   "metadata": {},
   "outputs": [],
   "source": []
  },
  {
   "cell_type": "code",
   "execution_count": 65,
   "metadata": {},
   "outputs": [],
   "source": [
    "def GreedyMotifSearch(k, t, Dna):\n",
    "    # create list of best motifs from out of the first DNA string given\n",
    "    best_motifs = []\n",
    "    for seq in Dna:\n",
    "        first = seq[0:k]\n",
    "        best_motifs.append(first)\n",
    "    # best_motifs = [seq[:k] for seq in dna]\n",
    "    \n",
    "    # iterate over kmers in first Dna string, create a motif list for each kmer\n",
    "    first_seq = Dna[0]\n",
    "    for start in range(len(first_seq) - k + 1):\n",
    "        kmer = first_seq[start : start + k]\n",
    "        # start motif list based on this kmer from first_seq\n",
    "        motif = [kmer]\n",
    "        \n",
    "        # iterate over subsequent Dna strings, make  profile from them based on first_seq kmer\n",
    "        for i in range(1, t):\n",
    "            matrix = Profile(motif, k)\n",
    "            most_probable = ProfileMostProbableList(Dna[i], k, matrix)\n",
    "            motif.append(most_probable)\n",
    "            \n",
    "        # score motif, replace if best\n",
    "        if Score(motif) < Score(best_motifs):\n",
    "            best_motifs = motif\n",
    "            \n",
    "    return best_motifs"
   ]
  },
  {
   "cell_type": "code",
   "execution_count": 66,
   "metadata": {},
   "outputs": [
    {
     "name": "stdout",
     "output_type": "stream",
     "text": [
      "CGTGAGTGGGCA\n",
      "TTCGAAAGCTCC\n",
      "CTGCATGCGATA\n",
      "TCATATAAAAGG\n",
      "TTGGAATGAACC\n",
      "AAGCAACGGTAA\n",
      "TAGTAAACATCA\n",
      "TTGTATCGAGCG\n",
      "ACCGATTGGTCA\n",
      "CGCGATAAAACA\n",
      "TCGTAGCGGACA\n",
      "AGGGAGCGGGCG\n",
      "ACGGAGCGGGCA\n",
      "ACGGAGGGGGCG\n",
      "AAGTAGCGCTTA\n",
      "ATCGAGAGGGCA\n",
      "ATTGAGAGGGCC\n",
      "AGCGAGCGGGCC\n",
      "ATGGAGTGGGCC\n",
      "CTGCAACGCACG\n",
      "TTCTAGCGCTCG\n",
      "ATAGAGAGGGCA\n",
      "AGAGAGTGGGCC\n",
      "CTTGATTGAGGA\n",
      "AGCGAGTGGGCC\n"
     ]
    }
   ],
   "source": [
    "x = GreedyMotifSearch(k,t,DNA)\n",
    "for i in x:\n",
    "    print(i)"
   ]
  },
  {
   "cell_type": "code",
   "execution_count": null,
   "metadata": {},
   "outputs": [],
   "source": []
  },
  {
   "cell_type": "code",
   "execution_count": null,
   "metadata": {},
   "outputs": [],
   "source": []
  }
 ],
 "metadata": {
  "kernelspec": {
   "display_name": "Python 3",
   "language": "python",
   "name": "python3"
  },
  "language_info": {
   "codemirror_mode": {
    "name": "ipython",
    "version": 3
   },
   "file_extension": ".py",
   "mimetype": "text/x-python",
   "name": "python",
   "nbconvert_exporter": "python",
   "pygments_lexer": "ipython3",
   "version": "3.7.6"
  }
 },
 "nbformat": 4,
 "nbformat_minor": 4
}
