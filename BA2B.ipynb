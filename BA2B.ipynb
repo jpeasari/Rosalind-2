{
 "cells": [
  {
   "cell_type": "code",
   "execution_count": null,
   "metadata": {},
   "outputs": [],
   "source": []
  },
  {
   "cell_type": "code",
   "execution_count": 51,
   "metadata": {},
   "outputs": [
    {
     "name": "stdout",
     "output_type": "stream",
     "text": [
      "64\n"
     ]
    }
   ],
   "source": [
    "############ Getting k-mers\n",
    "from itertools import product\n",
    "\n",
    "alphabet = \"ATGC\" ## String of DNA letters\n",
    "k_mer_pat = []\n",
    "for perm in product(alphabet, repeat=3): #note, repeat must be specifically stated\n",
    "    k_mer_pat.append(\"\".join(perm))\n",
    "print(len(k_mer_pat))"
   ]
  },
  {
   "cell_type": "code",
   "execution_count": 73,
   "metadata": {},
   "outputs": [],
   "source": [
    "### Getting hamming distance between a k_mer and the DNA string\n",
    "def Hamming_Distance(k_mer_pat,DNA_string):\n",
    "    dist = 0  ## To track distance between k-mer and string\n",
    "    minimum_distace = [] ### To find minimum distance from all the distances\n",
    "    for i in range(len(DNA_string) - len(k_mer_pat) + 1): ## Lopping through string using a window of k_mer size\n",
    "        for j in range(len(k_mer_pat)):               ## Looping for k_mer length times\n",
    "            if k_mer_pat[j] != DNA_string[i:i+len(k_mer_pat)][j]: ## Compare each k_mer character with a character in a string\n",
    "                dist = dist + 1 ## If a character is mismatched then increment distance\n",
    "#         print(dist)\n",
    "        minimum_distace.append(dist) ## Append distance value to a list\n",
    "        dist = 0\n",
    "\n",
    "    return min(minimum_distace) ## Return a lowest value from the list which is the lowest hamming distance\n"
   ]
  },
  {
   "cell_type": "code",
   "execution_count": 78,
   "metadata": {},
   "outputs": [],
   "source": [
    "### Finding median string that minimizes all the k_mers\n",
    "import operator\n",
    "def Median_string(k_mer_value,DNA_Seq):\n",
    "    motif = []\n",
    "    for i in k_mer_pat:\n",
    "        total_distance = 0\n",
    "        for j in DNA_Seq:\n",
    "            total_distance = total_distance + Hamming_Distance(i,j) ## Addind all hamming distances of all the k_mers\n",
    "        motif.append((i,total_distance))\n",
    "    print(motif)\n",
    "    Motif = min(motif, key=operator.itemgetter(1))[0] ## Get the motif with mimimum sum of hamming distances\n",
    "    return Motif\n",
    "            "
   ]
  },
  {
   "cell_type": "code",
   "execution_count": 79,
   "metadata": {},
   "outputs": [
    {
     "name": "stdout",
     "output_type": "stream",
     "text": [
      "[('AAA', 7), ('AAT', 7), ('AAG', 5), ('AAC', 5), ('ATA', 8), ('ATT', 6), ('ATG', 5), ('ATC', 6), ('AGA', 5), ('AGT', 4), ('AGG', 5), ('AGC', 3), ('ACA', 4), ('ACT', 5), ('ACG', 2), ('ACC', 3), ('TAA', 6), ('TAT', 8), ('TAG', 6), ('TAC', 5), ('TTA', 6), ('TTT', 8), ('TTG', 6), ('TTC', 7), ('TGA', 3), ('TGT', 5), ('TGG', 7), ('TGC', 6), ('TCA', 4), ('TCT', 8), ('TCG', 5), ('TCC', 6), ('GAA', 6), ('GAT', 6), ('GAG', 4), ('GAC', 2), ('GTA', 4), ('GTT', 4), ('GTG', 5), ('GTC', 5), ('GGA', 5), ('GGT', 6), ('GGG', 6), ('GGC', 5), ('GCA', 3), ('GCT', 5), ('GCG', 4), ('GCC', 4), ('CAA', 5), ('CAT', 4), ('CAG', 3), ('CAC', 3), ('CTA', 6), ('CTT', 6), ('CTG', 4), ('CTC', 6), ('CGA', 4), ('CGT', 3), ('CGG', 3), ('CGC', 3), ('CCA', 4), ('CCT', 5), ('CCG', 4), ('CCC', 6)]\n"
     ]
    },
    {
     "data": {
      "text/plain": [
       "'ACG'"
      ]
     },
     "execution_count": 79,
     "metadata": {},
     "output_type": "execute_result"
    }
   ],
   "source": [
    "k_mer_value = 3\n",
    "DNA_Seq = ['AAATTGACGCAT', 'GACGACCACGTT', 'CGTCAGCGCCTG', 'GCTGAGCACCGG', 'AGTACGGGACAG']\n",
    "Median_string(k_mer_value, DNA_Seq)"
   ]
  },
  {
   "cell_type": "code",
   "execution_count": null,
   "metadata": {},
   "outputs": [],
   "source": []
  },
  {
   "cell_type": "code",
   "execution_count": null,
   "metadata": {},
   "outputs": [],
   "source": []
  }
 ],
 "metadata": {
  "kernelspec": {
   "display_name": "Python 3",
   "language": "python",
   "name": "python3"
  },
  "language_info": {
   "codemirror_mode": {
    "name": "ipython",
    "version": 3
   },
   "file_extension": ".py",
   "mimetype": "text/x-python",
   "name": "python",
   "nbconvert_exporter": "python",
   "pygments_lexer": "ipython3",
   "version": "3.7.6"
  }
 },
 "nbformat": 4,
 "nbformat_minor": 4
}
