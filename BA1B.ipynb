{
 "cells": [
  {
   "cell_type": "markdown",
   "metadata": {},
   "source": [
    "## Find the Most Frequent Words in a String\n",
    "http://rosalind.info/problems/ba1b/"
   ]
  },
  {
   "cell_type": "code",
   "execution_count": 1,
   "metadata": {},
   "outputs": [],
   "source": [
    "def text_pattern(text,pattern):\n",
    "    count_pattern = 0\n",
    "    ln1 = len(text)\n",
    "    ln2 = len(pattern)\n",
    "    ln = ln1 - ln2 + 1\n",
    "    for i in range(ln):\n",
    "        if (text[i:i+ln2]) == pattern:\n",
    "            count_pattern = count_pattern + 1\n",
    "    return count_pattern,pattern"
   ]
  },
  {
   "cell_type": "code",
   "execution_count": 11,
   "metadata": {},
   "outputs": [
    {
     "name": "stdout",
     "output_type": "stream",
     "text": [
      "['ACGT', 'CGTT', 'GTTG', 'TTGC', 'TGCA', 'GCAT', 'CATG', 'ATGT', 'TGTC', 'GTCG', 'TCGC', 'CGCA', 'GCAT', 'CATG', 'ATGA', 'TGAT', 'GATG', 'ATGC', 'TGCA', 'GCAT', 'CATG', 'ATGA', 'TGAG', 'GAGA', 'AGAG', 'GAGC']\n"
     ]
    }
   ],
   "source": [
    "## To generate k_mers\n",
    "DNA_string = \"ACGTTGCATGTCGCATGATGCATGAGAGCT\"\n",
    "k_mer = 4\n",
    "lst_k_mers = []\n",
    "for i in range(len(DNA_string)-4):\n",
    "    lst_k_mers.append(DNA_string[i:i+4])\n",
    "print(lst_k_mers)\n",
    "  "
   ]
  },
  {
   "cell_type": "code",
   "execution_count": 12,
   "metadata": {},
   "outputs": [
    {
     "data": {
      "text/plain": [
       "[(1, 'ATGC'),\n",
       " (3, 'CATG'),\n",
       " (1, 'GTTG'),\n",
       " (1, 'ACGT'),\n",
       " (1, 'GAGC'),\n",
       " (1, 'GTCG'),\n",
       " (1, 'ATGT'),\n",
       " (2, 'ATGA'),\n",
       " (1, 'CGCA'),\n",
       " (1, 'GATG'),\n",
       " (1, 'TCGC'),\n",
       " (1, 'TGAG'),\n",
       " (1, 'TTGC'),\n",
       " (1, 'GAGA'),\n",
       " (2, 'TGCA'),\n",
       " (3, 'GCAT'),\n",
       " (1, 'CGTT'),\n",
       " (1, 'TGTC'),\n",
       " (1, 'TGAT'),\n",
       " (1, 'AGAG')]"
      ]
     },
     "execution_count": 12,
     "metadata": {},
     "output_type": "execute_result"
    }
   ],
   "source": [
    "x = len(lst_k_mers)\n",
    "repeated_all_mers = []\n",
    "for i in range(x):\n",
    "    x = text_pattern(\"ACGTTGCATGTCGCATGATGCATGAGAGCT\", lst_k_mers[i])\n",
    "    repeated_all_mers.append(x)\n",
    "    unq = set(repeated_all_mers)\n",
    "unq = list(unq)\n",
    "unq"
   ]
  },
  {
   "cell_type": "code",
   "execution_count": 13,
   "metadata": {},
   "outputs": [
    {
     "name": "stdout",
     "output_type": "stream",
     "text": [
      "GCAT CATG "
     ]
    }
   ],
   "source": [
    "unq = sorted(unq,reverse=True)\n",
    "for i in range(len(unq)):\n",
    "    if unq[i][0] == unq[0][0]:\n",
    "        print(unq[i][1], end= \" \")"
   ]
  },
  {
   "cell_type": "code",
   "execution_count": 1,
   "metadata": {},
   "outputs": [
    {
     "name": "stdout",
     "output_type": "stream",
     "text": [
      "GCAT CATG "
     ]
    },
    {
     "data": {
      "text/plain": [
       "0"
      ]
     },
     "execution_count": 1,
     "metadata": {},
     "output_type": "execute_result"
    }
   ],
   "source": [
    "def most_frequesnt(text):\n",
    "    ## To generate k_mers\n",
    "    DNA_string = text\n",
    "    k_mer = 4\n",
    "    lst_k_mers = []\n",
    "    for i in range(len(DNA_string)-4):\n",
    "        lst_k_mers.append(DNA_string[i:i+4])\n",
    " \n",
    "\n",
    "    def text_pattern(text,pattern):\n",
    "        count_pattern = 0\n",
    "        ln1 = len(text)\n",
    "        ln2 = len(pattern)\n",
    "        ln = ln1 - ln2 + 1\n",
    "        for i in range(ln):\n",
    "            if (text[i:i+ln2]) == pattern:\n",
    "                count_pattern = count_pattern + 1\n",
    "        return count_pattern,pattern\n",
    "    \n",
    "    x = len(lst_k_mers)\n",
    "    repeated_all_mers = []\n",
    "    for i in range(x):\n",
    "        x = text_pattern(text, lst_k_mers[i])\n",
    "        repeated_all_mers.append(x)\n",
    "        unq = set(repeated_all_mers)\n",
    "    unq = list(unq)\n",
    "\n",
    "    unq = sorted(unq,reverse=True)\n",
    "    for i in range(len(unq)):\n",
    "        if unq[i][0] == unq[0][0]:\n",
    "            print(unq[i][1], end= \" \")\n",
    "    return 0\n",
    "most_frequesnt(\"ACGTTGCATGTCGCATGATGCATGAGAGCT\")    \n",
    "    "
   ]
  },
  {
   "cell_type": "code",
   "execution_count": null,
   "metadata": {},
   "outputs": [],
   "source": []
  }
 ],
 "metadata": {
  "kernelspec": {
   "display_name": "Python 3",
   "language": "python",
   "name": "python3"
  },
  "language_info": {
   "codemirror_mode": {
    "name": "ipython",
    "version": 3
   },
   "file_extension": ".py",
   "mimetype": "text/x-python",
   "name": "python",
   "nbconvert_exporter": "python",
   "pygments_lexer": "ipython3",
   "version": "3.7.6"
  }
 },
 "nbformat": 4,
 "nbformat_minor": 4
}
