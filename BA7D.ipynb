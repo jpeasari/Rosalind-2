{
 "cells": [
  {
   "cell_type": "code",
   "execution_count": 10,
   "metadata": {},
   "outputs": [
    {
     "name": "stdout",
     "output_type": "stream",
     "text": [
      "0->5:7.000\n",
      "1->6:8.833\n",
      "2->4:5.000\n",
      "3->4:5.000\n",
      "4->2:5.000\n",
      "4->3:5.000\n",
      "4->5:2.000\n",
      "5->0:7.000\n",
      "5->4:2.000\n",
      "5->6:1.833\n",
      "6->1:8.833\n",
      "6->5:1.833\n"
     ]
    }
   ],
   "source": [
    "import numpy as np\n",
    "\n",
    "def UPGMA(n, D):\n",
    "    clusters = [[x] for x in range(n)]\n",
    "    D_original = np.array(D, copy=True) \n",
    "    m = n # m is the label of the next new node\n",
    "    tree = []\n",
    "    nodes = [(x, [x], 0) for x in range(n)] # node = (label, cluster, nodevalue)\n",
    "    while len(clusters) > 1:\n",
    "        i, j, d = getting_minimum_element(n, D)\n",
    "        new = clusters[i] + clusters[j]\n",
    "        \n",
    "        for x in range(len(clusters)):\n",
    "            if x != i and x != j:\n",
    "                avg_dist = getting_average_distance(clusters[x], new, D_original)\n",
    "                D[x][i] = D[i][x] = avg_dist\n",
    "        D = np.delete(D, j, axis=0) \n",
    "        D = np.delete(D, j, axis=1)\n",
    "        c1, c2 = clusters[i], clusters[j]\n",
    "        for node in nodes:\n",
    "            x, c, w = node\n",
    "            if c == c1 or c == c2:\n",
    "                tree += [(x, m, d/2 - w), (m, x, d/2 - w)] # add new edges to tree\n",
    "        nodes.append((m, new, d/2))\n",
    "        n, m = n - 1, m + 1\n",
    "        clusters[i] = new\n",
    "        del clusters[j]\n",
    "    return sorted(tree, key = lambda x: (x[0], x[1]))\n",
    "\n",
    "def getting_minimum_element(n, D): ## Returns row and column index of minimum element \n",
    "    p, q, minval = -1, -1, np.inf\n",
    "    for i in range(n):\n",
    "        for j in range(i+1, n):\n",
    "            if D[i][j] < minval:\n",
    "                p, q, minval = i, j, D[i][j]\n",
    "    return p, q, minval\n",
    "\n",
    "def getting_average_distance(c1, c2, D): ## c1 and c2 represent cluster\n",
    "    dist = 0\n",
    "    for p in c1:\n",
    "        for q in c2:\n",
    "            dist += D[p][q]\n",
    "    return dist / (len(c1) * len(c2))\n",
    "\n",
    "def getting_data(file_path):  ### parsing the input file\n",
    "    with open(input_data, 'r') as file:\n",
    "        n = int(file.readline().strip())\n",
    "        D = np.array([float(x) for x in file.read().strip().split()])\n",
    "        D.shape = (n, n)\n",
    "        return n, D\n",
    "\n",
    "input_data = \"rosalind_ba7d.txt\"  \n",
    "n, D = getting_data(input_data)\n",
    "tree = UPGMA(n, D)\n",
    "out = '\\n'.join([str(e[0]) + '->' + str(e[1]) + ':{0:.3f}'.format(e[2]) for e in tree])\n",
    "print(out)"
   ]
  },
  {
   "cell_type": "code",
   "execution_count": null,
   "metadata": {},
   "outputs": [],
   "source": []
  }
 ],
 "metadata": {
  "kernelspec": {
   "display_name": "Python 3",
   "language": "python",
   "name": "python3"
  },
  "language_info": {
   "codemirror_mode": {
    "name": "ipython",
    "version": 3
   },
   "file_extension": ".py",
   "mimetype": "text/x-python",
   "name": "python",
   "nbconvert_exporter": "python",
   "pygments_lexer": "ipython3",
   "version": "3.6.8"
  }
 },
 "nbformat": 4,
 "nbformat_minor": 4
}
