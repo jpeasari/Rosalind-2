{
 "cells": [
  {
   "cell_type": "markdown",
   "metadata": {},
   "source": [
    "## Compute the Number of Breakpoints in a Permutation\n",
    "http://rosalind.info/problems/ba6b/"
   ]
  },
  {
   "cell_type": "code",
   "execution_count": 2,
   "metadata": {},
   "outputs": [
    {
     "name": "stdout",
     "output_type": "stream",
     "text": [
      "[   0    1    2 ... 4051 4052 4053]\n"
     ]
    }
   ],
   "source": [
    "### Parsing the input data\n",
    "import numpy as np\n",
    "input_data = open(\"rosalind_ba6b.txt\",\"r\")\n",
    "for line in input_data:\n",
    "    line = line.strip().lstrip(\"(\")\n",
    "    line = line.rstrip(\")\")\n",
    "    line = line.split()\n",
    "for i in range(0, len(line)): \n",
    "    line[i] = int(line[i]) \n",
    "w = np.array(line)\n",
    "q = np.insert(w,0,0) ## Adding 0 to the existing numpy array\n",
    "print(q)\n"
   ]
  },
  {
   "cell_type": "code",
   "execution_count": 3,
   "metadata": {},
   "outputs": [
    {
     "name": "stdout",
     "output_type": "stream",
     "text": [
      "[1 1 1 ... 1 1 1]\n",
      "80\n"
     ]
    }
   ],
   "source": [
    "import numpy as np\n",
    "temp = []\n",
    "print((np.diff(q))) ## np.diff will calculate difference between one value and it's previous like 1-0,2-1,3-2,.......\n",
    "x = np.diff(q)\n",
    "for i in x:\n",
    "    if i != 1:\n",
    "        temp.append(i)\n",
    "print(sum(temp)) ## Sum all values excluding values 1 to get final value\n",
    "    "
   ]
  },
  {
   "cell_type": "code",
   "execution_count": null,
   "metadata": {},
   "outputs": [],
   "source": []
  }
 ],
 "metadata": {
  "kernelspec": {
   "display_name": "Python 3",
   "language": "python",
   "name": "python3"
  },
  "language_info": {
   "codemirror_mode": {
    "name": "ipython",
    "version": 3
   },
   "file_extension": ".py",
   "mimetype": "text/x-python",
   "name": "python",
   "nbconvert_exporter": "python",
   "pygments_lexer": "ipython3",
   "version": "3.7.6"
  }
 },
 "nbformat": 4,
 "nbformat_minor": 4
}
