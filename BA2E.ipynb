{
 "cells": [
  {
   "cell_type": "code",
   "execution_count": 28,
   "metadata": {},
   "outputs": [],
   "source": [
    "with open(\"rosalind_ba2e.txt\", \"r\") as f:\n",
    "        k, t = map(int, f.readline().split())\n",
    "        DNA = [line.strip() for line in f]\n"
   ]
  },
  {
   "cell_type": "code",
   "execution_count": 29,
   "metadata": {},
   "outputs": [],
   "source": [
    "import random\n",
    "def RandomKmer(DNA,k): ## Getting a random kmer length k from a given DNA string\n",
    "    overlap_length = len(DNA) - k + 1\n",
    "    first = random.randint(0,overlap_length-1)\n",
    "    k_mer = DNA[first:first+k]\n",
    "    return k_mer\n",
    "\n",
    "#RandomKmer(\"CGCCCCTCTCGGGGGTGTTCAGTAAACGGCCA\", 8)\n",
    "\n"
   ]
  },
  {
   "cell_type": "code",
   "execution_count": 30,
   "metadata": {},
   "outputs": [],
   "source": [
    "### Getting hamming distance between a k_mer and the DNA string\n",
    "### import hamming distance from BA2C.ipynb\n",
    "def Hamming_Distance(k_mer_pat,DNA_string):\n",
    "    dist = 0  ## To track distance between k-mer and string\n",
    "    minimum_distace = [] ### To find minimum distance from all the distances\n",
    "    for i in range(len(DNA_string) - len(k_mer_pat) + 1): ## Lopping through string using a window of k_mer size\n",
    "        for j in range(len(k_mer_pat)):               ## Looping for k_mer length times\n",
    "            if k_mer_pat[j] != DNA_string[i:i+len(k_mer_pat)][j]: ## Compare each k_mer character with a character in a string\n",
    "                dist = dist + 1 ## If a character is mismatched then increment distance\n",
    "#         print(dist)\n",
    "        minimum_distace.append(dist) ## Append distance value to a list\n",
    "        dist = 0\n",
    "    return min(minimum_distace) ## Return a lowest value from the list which is the lowest hamming distance\n"
   ]
  },
  {
   "cell_type": "code",
   "execution_count": 31,
   "metadata": {},
   "outputs": [],
   "source": [
    "### import BA2C.ipynb\n",
    "from operator import itemgetter\n",
    "def ProfileMostProableMotif(DNA,k_mer,profile):\n",
    "    position = {'A' : 0, 'C' : 1, 'G' : 2, 'T' : 3}\n",
    "    k_mer_1 = k_mer\n",
    "    total_probability = []\n",
    "    for i in range(len(DNA)-k_mer_1+1): ### Looping through DNA string\n",
    "        k_mer_seq = DNA[i:k_mer] ## Getting k_mer sequences\n",
    "        k_mer = k_mer + 1 ## To get new k_mer sequence\n",
    "        initial_probability = 1\n",
    "        for x in range(len(k_mer_seq)): ## Looping through each k_mer\n",
    "            letter = k_mer_seq[x] ## Getting letter from k_mer\n",
    "            proability = profile[position[letter]][x] ## Getting the proabality of that letter at that position from the profile matrix\n",
    "            initial_probability = float(initial_probability) * float(proability) ## Multiplying with the initial proability\n",
    "        total_probability.append((k_mer_seq,initial_probability)) ## APpendind all the multiplied proabilities to a list\n",
    "#     print(max(total_probability, key=itemgetter(1))[0]) ## Getting the k-mer with the highest proabality value\n",
    "    return max(total_probability, key=itemgetter(1))[0]\n"
   ]
  },
  {
   "cell_type": "code",
   "execution_count": 32,
   "metadata": {},
   "outputs": [],
   "source": [
    "# ## Helper function to generate profile matrix\n",
    "def Profile(gerated_motifs, k):\n",
    "    profile_matrix = []\n",
    "    for i in range(4):\n",
    "        profile_matrix.append([0.0] * k) ## Creating a matrix or list with all 0's in each position for all 4 bases\n",
    "    total_motifs = len(gerated_motifs) + 4 ## Getting the length of motifs\n",
    "    for j in range(k):\n",
    "        motif_counting = {\"A\" : 1, \"C\" : 1, \"G\" : 1, \"T\" : 1} # Creating a disctionary for all 4 bases with 0 as a key value\n",
    "        for i in gerated_motifs:\n",
    "            motif_counting[\"A\"] += i[j].count(\"A\") ## Counting a base in a motif and adding value to a dictionary if the base is A\n",
    "            motif_counting[\"C\"] += i[j].count(\"C\") ## Counting a base in a motif and adding value to a dictionary if the base is C\n",
    "            motif_counting[\"G\"] += i[j].count(\"G\") ## Counting a base in a motif and adding value to a dictionary if the base is G\n",
    "            motif_counting[\"T\"] += i[j].count(\"T\") ## Counting a base in a motif and adding value to a dictionary if the base is T\n",
    "        profile_matrix[0][j] = motif_counting[\"A\"] / total_motifs ## Dividing each value in the dictinary with total motif length\n",
    "        profile_matrix[1][j] = motif_counting[\"C\"] / total_motifs\n",
    "        profile_matrix[2][j] = motif_counting[\"G\"] / total_motifs\n",
    "        profile_matrix[3][j] = motif_counting[\"T\"] / total_motifs\n",
    "    return profile_matrix ## Returning final matrix\n"
   ]
  },
  {
   "cell_type": "code",
   "execution_count": 33,
   "metadata": {},
   "outputs": [],
   "source": [
    "def ScoreFunction(given_motifs):\n",
    "    length = len(given_motifs[0]) ## Getting length of motifs in each list of motifs\n",
    "    consensus_seq = []\n",
    "    for j in range(length): ## Looping through length value\n",
    "        position = {\"A\" : 0, \"C\" : 0, \"G\" : 0, \"T\" : 0} ## A dictionary with 0's as values\n",
    "        for i in given_motifs: ## Looping through each motif\n",
    "            position[\"A\"] = position[\"A\"] + i[j].count(\"A\") ## Counting a base in a motif and adding value to a dictionary if the base is A\n",
    "            position[\"C\"] = position[\"C\"] + i[j].count(\"C\")\n",
    "            position[\"G\"] = position[\"G\"] + i[j].count(\"G\")\n",
    "            position[\"T\"] = position[\"T\"] + i[j].count(\"T\")\n",
    "        maximum_position = max(position.values()) ## Getting maximum dictionary value \n",
    "        for key,value in position.items():## Looping through dictionary\n",
    "            if value == maximum_position: ## If max value == maximum dictionary value \n",
    "                consensus_seq.append(key) ## Get corresponding key for that maximum value\n",
    "                break\n",
    "    consensus_seq = \"\".join(consensus_seq) ## Join all the keys\n",
    "    score = 0\n",
    "    for i in given_motifs:\n",
    "        score = score + Hamming_Distance(i,consensus_seq) ## Calculate the hamming distance between each generated motif and the generated consesus sequence\n",
    "        \n",
    "    return score\n"
   ]
  },
  {
   "cell_type": "code",
   "execution_count": 43,
   "metadata": {},
   "outputs": [],
   "source": [
    "def RandomizedMotifSearchAlgorithm(k, t, DNA):\n",
    "    # create list of best motifs from out of the first DNA string given\n",
    "    best_motifs = []\n",
    "    for seq in DNA:\n",
    "        first = RandomKmer(seq,k)\n",
    "        best_motifs.append(first)\n",
    "    motifs = best_motifs\n",
    "    \n",
    "    while True:\n",
    "        profile = Profile(motifs,k)\n",
    "        motifs = []\n",
    "        for seq in DNA:\n",
    "            most_probable = ProfileMostProableMotif(seq, k, profile)\n",
    "            motifs.append(most_probable)\n",
    "            \n",
    "        # score motif, replace if best\n",
    "        if ScoreFunction(motifs) < ScoreFunction(best_motifs):\n",
    "            best_motifs = motifs\n",
    "    for x in best_motifs:\n",
    "        print(x)\n",
    "    return 0"
   ]
  },
  {
   "cell_type": "code",
   "execution_count": 44,
   "metadata": {},
   "outputs": [],
   "source": [
    "def RandomizedMotifSearchAlgorithm_1000times(k,t,DNA, total_times = 1000):\n",
    "    best_motifs = RandomizedMotifSearchAlgorithm(k,t,DNA)\n",
    "    for i in range(total_times-1):\n",
    "        new_best_motifs = RandomizedMotifSearchAlgorithm(k,t,DNA)\n",
    "        if ScoreFunction(new_best_motifs) < ScoreFunction(best_motifs):\n",
    "            best_motifs = new_best_motifs\n",
    "    return best_motifs\n",
    "        "
   ]
  },
  {
   "cell_type": "code",
   "execution_count": 45,
   "metadata": {},
   "outputs": [
    {
     "ename": "KeyboardInterrupt",
     "evalue": "",
     "output_type": "error",
     "traceback": [
      "\u001b[1;31m---------------------------------------------------------------------------\u001b[0m",
      "\u001b[1;31mKeyboardInterrupt\u001b[0m                         Traceback (most recent call last)",
      "\u001b[1;32m<ipython-input-45-7157e627b793>\u001b[0m in \u001b[0;36m<module>\u001b[1;34m\u001b[0m\n\u001b[1;32m----> 1\u001b[1;33m \u001b[0mRandomizedMotifSearchAlgorithm_1000times\u001b[0m\u001b[1;33m(\u001b[0m\u001b[0mk\u001b[0m\u001b[1;33m,\u001b[0m\u001b[0mt\u001b[0m\u001b[1;33m,\u001b[0m\u001b[0mDNA\u001b[0m\u001b[1;33m)\u001b[0m\u001b[1;33m\u001b[0m\u001b[1;33m\u001b[0m\u001b[0m\n\u001b[0m",
      "\u001b[1;32m<ipython-input-44-323796ee7818>\u001b[0m in \u001b[0;36mRandomizedMotifSearchAlgorithm_1000times\u001b[1;34m(k, t, DNA, total_times)\u001b[0m\n\u001b[0;32m      1\u001b[0m \u001b[1;32mdef\u001b[0m \u001b[0mRandomizedMotifSearchAlgorithm_1000times\u001b[0m\u001b[1;33m(\u001b[0m\u001b[0mk\u001b[0m\u001b[1;33m,\u001b[0m\u001b[0mt\u001b[0m\u001b[1;33m,\u001b[0m\u001b[0mDNA\u001b[0m\u001b[1;33m,\u001b[0m \u001b[0mtotal_times\u001b[0m \u001b[1;33m=\u001b[0m \u001b[1;36m1000\u001b[0m\u001b[1;33m)\u001b[0m\u001b[1;33m:\u001b[0m\u001b[1;33m\u001b[0m\u001b[1;33m\u001b[0m\u001b[0m\n\u001b[1;32m----> 2\u001b[1;33m     \u001b[0mbest_motifs\u001b[0m \u001b[1;33m=\u001b[0m \u001b[0mRandomizedMotifSearchAlgorithm\u001b[0m\u001b[1;33m(\u001b[0m\u001b[0mk\u001b[0m\u001b[1;33m,\u001b[0m\u001b[0mt\u001b[0m\u001b[1;33m,\u001b[0m\u001b[0mDNA\u001b[0m\u001b[1;33m)\u001b[0m\u001b[1;33m\u001b[0m\u001b[1;33m\u001b[0m\u001b[0m\n\u001b[0m\u001b[0;32m      3\u001b[0m     \u001b[1;32mfor\u001b[0m \u001b[0mi\u001b[0m \u001b[1;32min\u001b[0m \u001b[0mrange\u001b[0m\u001b[1;33m(\u001b[0m\u001b[0mtotal_times\u001b[0m\u001b[1;33m-\u001b[0m\u001b[1;36m1\u001b[0m\u001b[1;33m)\u001b[0m\u001b[1;33m:\u001b[0m\u001b[1;33m\u001b[0m\u001b[1;33m\u001b[0m\u001b[0m\n\u001b[0;32m      4\u001b[0m         \u001b[0mnew_best_motifs\u001b[0m \u001b[1;33m=\u001b[0m \u001b[0mRandomizedMotifSearchAlgorithm\u001b[0m\u001b[1;33m(\u001b[0m\u001b[0mk\u001b[0m\u001b[1;33m,\u001b[0m\u001b[0mt\u001b[0m\u001b[1;33m,\u001b[0m\u001b[0mDNA\u001b[0m\u001b[1;33m)\u001b[0m\u001b[1;33m\u001b[0m\u001b[1;33m\u001b[0m\u001b[0m\n\u001b[0;32m      5\u001b[0m         \u001b[1;32mif\u001b[0m \u001b[0mScoreFunction\u001b[0m\u001b[1;33m(\u001b[0m\u001b[0mmotif\u001b[0m\u001b[1;33m)\u001b[0m \u001b[1;33m<\u001b[0m \u001b[0mScoreFunction\u001b[0m\u001b[1;33m(\u001b[0m\u001b[0mbest_motifs\u001b[0m\u001b[1;33m)\u001b[0m\u001b[1;33m:\u001b[0m\u001b[1;33m\u001b[0m\u001b[1;33m\u001b[0m\u001b[0m\n",
      "\u001b[1;32m<ipython-input-43-b03a38a909ba>\u001b[0m in \u001b[0;36mRandomizedMotifSearchAlgorithm\u001b[1;34m(k, t, DNA)\u001b[0m\n\u001b[0;32m      8\u001b[0m \u001b[1;33m\u001b[0m\u001b[0m\n\u001b[0;32m      9\u001b[0m     \u001b[1;32mwhile\u001b[0m \u001b[1;32mTrue\u001b[0m\u001b[1;33m:\u001b[0m\u001b[1;33m\u001b[0m\u001b[1;33m\u001b[0m\u001b[0m\n\u001b[1;32m---> 10\u001b[1;33m         \u001b[0mprofile\u001b[0m \u001b[1;33m=\u001b[0m \u001b[0mProfile\u001b[0m\u001b[1;33m(\u001b[0m\u001b[0mmotifs\u001b[0m\u001b[1;33m,\u001b[0m\u001b[0mk\u001b[0m\u001b[1;33m)\u001b[0m\u001b[1;33m\u001b[0m\u001b[1;33m\u001b[0m\u001b[0m\n\u001b[0m\u001b[0;32m     11\u001b[0m         \u001b[0mmotifs\u001b[0m \u001b[1;33m=\u001b[0m \u001b[1;33m[\u001b[0m\u001b[1;33m]\u001b[0m\u001b[1;33m\u001b[0m\u001b[1;33m\u001b[0m\u001b[0m\n\u001b[0;32m     12\u001b[0m         \u001b[1;32mfor\u001b[0m \u001b[0mseq\u001b[0m \u001b[1;32min\u001b[0m \u001b[0mDNA\u001b[0m\u001b[1;33m:\u001b[0m\u001b[1;33m\u001b[0m\u001b[1;33m\u001b[0m\u001b[0m\n",
      "\u001b[1;32m<ipython-input-32-41b9ffc4b337>\u001b[0m in \u001b[0;36mProfile\u001b[1;34m(gerated_motifs, k)\u001b[0m\n\u001b[0;32m      9\u001b[0m         \u001b[1;32mfor\u001b[0m \u001b[0mi\u001b[0m \u001b[1;32min\u001b[0m \u001b[0mgerated_motifs\u001b[0m\u001b[1;33m:\u001b[0m\u001b[1;33m\u001b[0m\u001b[1;33m\u001b[0m\u001b[0m\n\u001b[0;32m     10\u001b[0m             \u001b[0mmotif_counting\u001b[0m\u001b[1;33m[\u001b[0m\u001b[1;34m\"A\"\u001b[0m\u001b[1;33m]\u001b[0m \u001b[1;33m+=\u001b[0m \u001b[0mi\u001b[0m\u001b[1;33m[\u001b[0m\u001b[0mj\u001b[0m\u001b[1;33m]\u001b[0m\u001b[1;33m.\u001b[0m\u001b[0mcount\u001b[0m\u001b[1;33m(\u001b[0m\u001b[1;34m\"A\"\u001b[0m\u001b[1;33m)\u001b[0m \u001b[1;31m## Counting a base in a motif and adding value to a dictionary if the base is A\u001b[0m\u001b[1;33m\u001b[0m\u001b[1;33m\u001b[0m\u001b[0m\n\u001b[1;32m---> 11\u001b[1;33m             \u001b[0mmotif_counting\u001b[0m\u001b[1;33m[\u001b[0m\u001b[1;34m\"C\"\u001b[0m\u001b[1;33m]\u001b[0m \u001b[1;33m+=\u001b[0m \u001b[0mi\u001b[0m\u001b[1;33m[\u001b[0m\u001b[0mj\u001b[0m\u001b[1;33m]\u001b[0m\u001b[1;33m.\u001b[0m\u001b[0mcount\u001b[0m\u001b[1;33m(\u001b[0m\u001b[1;34m\"C\"\u001b[0m\u001b[1;33m)\u001b[0m \u001b[1;31m## Counting a base in a motif and adding value to a dictionary if the base is C\u001b[0m\u001b[1;33m\u001b[0m\u001b[1;33m\u001b[0m\u001b[0m\n\u001b[0m\u001b[0;32m     12\u001b[0m             \u001b[0mmotif_counting\u001b[0m\u001b[1;33m[\u001b[0m\u001b[1;34m\"G\"\u001b[0m\u001b[1;33m]\u001b[0m \u001b[1;33m+=\u001b[0m \u001b[0mi\u001b[0m\u001b[1;33m[\u001b[0m\u001b[0mj\u001b[0m\u001b[1;33m]\u001b[0m\u001b[1;33m.\u001b[0m\u001b[0mcount\u001b[0m\u001b[1;33m(\u001b[0m\u001b[1;34m\"G\"\u001b[0m\u001b[1;33m)\u001b[0m \u001b[1;31m## Counting a base in a motif and adding value to a dictionary if the base is G\u001b[0m\u001b[1;33m\u001b[0m\u001b[1;33m\u001b[0m\u001b[0m\n\u001b[0;32m     13\u001b[0m             \u001b[0mmotif_counting\u001b[0m\u001b[1;33m[\u001b[0m\u001b[1;34m\"T\"\u001b[0m\u001b[1;33m]\u001b[0m \u001b[1;33m+=\u001b[0m \u001b[0mi\u001b[0m\u001b[1;33m[\u001b[0m\u001b[0mj\u001b[0m\u001b[1;33m]\u001b[0m\u001b[1;33m.\u001b[0m\u001b[0mcount\u001b[0m\u001b[1;33m(\u001b[0m\u001b[1;34m\"T\"\u001b[0m\u001b[1;33m)\u001b[0m \u001b[1;31m## Counting a base in a motif and adding value to a dictionary if the base is T\u001b[0m\u001b[1;33m\u001b[0m\u001b[1;33m\u001b[0m\u001b[0m\n",
      "\u001b[1;31mKeyboardInterrupt\u001b[0m: "
     ]
    }
   ],
   "source": [
    "RandomizedMotifSearchAlgorithm_1000times(k,t,DNA)"
   ]
  },
  {
   "cell_type": "code",
   "execution_count": null,
   "metadata": {},
   "outputs": [],
   "source": []
  },
  {
   "cell_type": "code",
   "execution_count": null,
   "metadata": {},
   "outputs": [],
   "source": []
  },
  {
   "cell_type": "code",
   "execution_count": null,
   "metadata": {},
   "outputs": [],
   "source": []
  },
  {
   "cell_type": "code",
   "execution_count": null,
   "metadata": {},
   "outputs": [],
   "source": []
  },
  {
   "cell_type": "code",
   "execution_count": null,
   "metadata": {},
   "outputs": [],
   "source": []
  }
 ],
 "metadata": {
  "kernelspec": {
   "display_name": "Python 3",
   "language": "python",
   "name": "python3"
  },
  "language_info": {
   "codemirror_mode": {
    "name": "ipython",
    "version": 3
   },
   "file_extension": ".py",
   "mimetype": "text/x-python",
   "name": "python",
   "nbconvert_exporter": "python",
   "pygments_lexer": "ipython3",
   "version": "3.7.6"
  }
 },
 "nbformat": 4,
 "nbformat_minor": 4
}
