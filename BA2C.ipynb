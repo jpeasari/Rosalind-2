{
 "cells": [
  {
   "cell_type": "markdown",
   "metadata": {},
   "source": [
    "## Find a Profile-most Probable k-mer in a String\n",
    "http://rosalind.info/problems/ba2c"
   ]
  },
  {
   "cell_type": "code",
   "execution_count": 1,
   "metadata": {},
   "outputs": [
    {
     "name": "stdout",
     "output_type": "stream",
     "text": [
      "CGGAGCTAGAGTGGTTTTTAATCGCGACGTCCAGGCTGCCATCCCATCTTCCGCGCATGAGTTTTGATCATGGACTAGAAATCAAGTTACGCAACCAAAGTATACTTAAAAAGAGTGGACGAAGGAAAGTGGCGTAATGAAGCCTGACAAACTCAGGCTCCGGGATCCCCGGATATCTTGCAGACCTATAGCATTCGCAC\n",
      "8\n",
      "{'A': ['0.04', '0.52', '0.32', '0.24', '0.24', '0.24', '0.08', '0.32'], 'C': ['0.24', '0.2', '0.28', '0.36', '0.24', '0.36', '0.2', '0.32'], 'G': ['0.24', '0.16', '0.2', '0.12', '0.2', '0.32', '0.28', '0.2'], 'T': ['0.48', '0.12', '0.2', '0.28', '0.32', '0.08', '0.44', '0.16']}\n"
     ]
    }
   ],
   "source": [
    "with open(\"rosalind_ba2c.txt\", \"r\") as f:\n",
    "        DNA = (f.readline().strip())\n",
    "        k_mer = int(f.readline().strip())\n",
    "        profile_1 = [line.strip() for line in f]\n",
    "print(DNA)\n",
    "print(k_mer)\n",
    "profile = {}\n",
    "x = [\"A\",\"C\",\"G\",\"T\"]\n",
    "for i in range(len(profile_1)):\n",
    "    key = x[i]\n",
    "    value = profile_1[i].split()\n",
    "    profile[key]=value\n",
    "print(profile)"
   ]
  },
  {
   "cell_type": "code",
   "execution_count": 141,
   "metadata": {},
   "outputs": [
    {
     "name": "stdout",
     "output_type": "stream",
     "text": [
      "GACCTATA\n"
     ]
    }
   ],
   "source": [
    "from operator import itemgetter\n",
    "\n",
    "with open(\"rosalind_ba2c.txt\", \"r\") as f: ### loading data file\n",
    "        DNA = (f.readline().strip()) ## Getting DNA sequence\n",
    "        k_mer = int(f.readline().strip()) ## Getting k_mer value\n",
    "        profile_1 = [line.strip() for line in f] ### Getting profile to a list\n",
    "        \n",
    "        \n",
    "profile = {}\n",
    "x = [\"A\",\"C\",\"G\",\"T\"]\n",
    "for i in range(len(profile_1)): ## Converting profile to a dictionary with DNA symbol \n",
    "    key = x[i]\n",
    "    value = profile_1[i].split()\n",
    "    profile[key]=value\n",
    "    \n",
    "    \n",
    "k_mer_1 = k_mer\n",
    "total_probability = []\n",
    "for i in range(len(DNA)-k_mer_1+1): ### Looping through DNA string\n",
    "    k_mer_seq = DNA[i:k_mer] ## Getting k_mer sequences\n",
    "    k_mer = k_mer + 1 ## To get new k_mer sequence\n",
    "    initial_probability = 1\n",
    "    for x in range(len(k_mer_seq)): ## Looping through each k_mer\n",
    "        letter = k_mer_seq[x] ## Getting letter from k_mer\n",
    "        proability = profile[letter][x] ## Getting the proabality of that letter at that position from the profile matrix\n",
    "        initial_probability = float(initial_probability) * float(proability) ## Multiplying with the initial proability\n",
    "    total_probability.append((k_mer_seq,initial_probability)) ## APpendind all the multiplied proabilities to a list\n",
    "print(max(total_probability, key=itemgetter(1))[0]) ## Getting the k-mer with the highest proabality value"
   ]
  },
  {
   "cell_type": "code",
   "execution_count": null,
   "metadata": {},
   "outputs": [],
   "source": []
  }
 ],
 "metadata": {
  "kernelspec": {
   "display_name": "Python 3",
   "language": "python",
   "name": "python3"
  },
  "language_info": {
   "codemirror_mode": {
    "name": "ipython",
    "version": 3
   },
   "file_extension": ".py",
   "mimetype": "text/x-python",
   "name": "python",
   "nbconvert_exporter": "python",
   "pygments_lexer": "ipython3",
   "version": "3.7.6"
  }
 },
 "nbformat": 4,
 "nbformat_minor": 4
}
